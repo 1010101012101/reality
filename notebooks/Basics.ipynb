{
 "cells": [
  {
   "cell_type": "code",
   "execution_count": 3,
   "metadata": {
    "collapsed": false
   },
   "outputs": [
    {
     "data": {
      "text/html": [
       "<table style=\"border: 1px solid #B0C6D0; border-collapse: collapse;\">\n",
       "  <thead>\n",
       "    <tr><th colspan=\"2\"  style=\"border: 1px solid #B0C6D0; padding: 4px; font-weight: bold; color: #B0C6D0; font-size: big; text-align: center;\">Pune</th></tr>\n",
       "  </thead>\n",
       "  <tbody>\n",
       "    \n",
       "      <tr >\n",
       "        <th style=\"text-align:right; border: 1px solid #B0C6D0; padding: 2px; color:gray; font-variant: small-caps;\">area</th>\n",
       "        <td style=\"border: 1px solid #B0C6D0; padding: 2px;\"><span style=\"border: 1px solid #B0C6D0; background-color: #DEE7EC; padding: 1px; cursor: pointer;\" title=\"#&lt;Reality::Measure(710 km²)>\">710km²</span></td>\n",
       "      </tr>\n",
       "    \n",
       "      <tr >\n",
       "        <th style=\"text-align:right; border: 1px solid #B0C6D0; padding: 2px; color:gray; font-variant: small-caps;\">continent</th>\n",
       "        <td style=\"border: 1px solid #B0C6D0; padding: 2px;\"><span style=\"border: 1px solid #B0C6D0; background-color: #DEE7EC; padding: 1px; cursor: pointer;\" title=\"#&lt;Reality::Entity?(Asia)>\">Asia</span></td>\n",
       "      </tr>\n",
       "    \n",
       "      <tr >\n",
       "        <th style=\"text-align:right; border: 1px solid #B0C6D0; padding: 2px; color:gray; font-variant: small-caps;\">coord</th>\n",
       "        <td style=\"border: 1px solid #B0C6D0; padding: 2px;\"><span style=\"border: 1px solid #B0C6D0; background-color: #DEE7EC; padding: 1px; cursor: pointer;\" title=\"#&lt;Reality::Geo::Coord(18°31′25″N,73°50′52″E)>\">18°31′25″N, 73°50′52″E</span></td>\n",
       "      </tr>\n",
       "    \n",
       "      <tr >\n",
       "        <th style=\"text-align:right; border: 1px solid #B0C6D0; padding: 2px; color:gray; font-variant: small-caps;\">country</th>\n",
       "        <td style=\"border: 1px solid #B0C6D0; padding: 2px;\"><span style=\"border: 1px solid #B0C6D0; background-color: #DEE7EC; padding: 1px; cursor: pointer;\" title=\"#&lt;Reality::Entity?(India)>\">India</span></td>\n",
       "      </tr>\n",
       "    \n",
       "      <tr >\n",
       "        <th style=\"text-align:right; border: 1px solid #B0C6D0; padding: 2px; color:gray; font-variant: small-caps;\">elevation</th>\n",
       "        <td style=\"border: 1px solid #B0C6D0; padding: 2px;\"><span style=\"border: 1px solid #B0C6D0; background-color: #DEE7EC; padding: 1px; cursor: pointer;\" title=\"#&lt;Reality::Measure(561 m)>\">561m</span></td>\n",
       "      </tr>\n",
       "    \n",
       "      <tr >\n",
       "        <th style=\"text-align:right; border: 1px solid #B0C6D0; padding: 2px; color:gray; font-variant: small-caps;\">located_in</th>\n",
       "        <td style=\"border: 1px solid #B0C6D0; padding: 2px;\"><span style=\"border: 1px solid #B0C6D0; background-color: #DEE7EC; padding: 1px; cursor: pointer;\" title=\"#&lt;Reality::Entity?(Pune district)>\">Pune district</span></td>\n",
       "      </tr>\n",
       "    \n",
       "      <tr >\n",
       "        <th style=\"text-align:right; border: 1px solid #B0C6D0; padding: 2px; color:gray; font-variant: small-caps;\">long_name</th>\n",
       "        <td style=\"border: 1px solid #B0C6D0; padding: 2px;\">Pune</td>\n",
       "      </tr>\n",
       "    \n",
       "      <tr >\n",
       "        <th style=\"text-align:right; border: 1px solid #B0C6D0; padding: 2px; color:gray; font-variant: small-caps;\">official_website</th>\n",
       "        <td style=\"border: 1px solid #B0C6D0; padding: 2px;\">http://punecorporation.org</td>\n",
       "      </tr>\n",
       "    \n",
       "      <tr >\n",
       "        <th style=\"text-align:right; border: 1px solid #B0C6D0; padding: 2px; color:gray; font-variant: small-caps;\">population</th>\n",
       "        <td style=\"border: 1px solid #B0C6D0; padding: 2px;\"><span style=\"border: 1px solid #B0C6D0; background-color: #DEE7EC; padding: 1px; cursor: pointer;\" title=\"#&lt;Reality::Measure(3,115,431 person)>\">3,115,431person</span></td>\n",
       "      </tr>\n",
       "    \n",
       "      <tr >\n",
       "        <th style=\"text-align:right; border: 1px solid #B0C6D0; padding: 2px; color:gray; font-variant: small-caps;\">population_metro</th>\n",
       "        <td style=\"border: 1px solid #B0C6D0; padding: 2px;\"><span style=\"border: 1px solid #B0C6D0; background-color: #DEE7EC; padding: 1px; cursor: pointer;\" title=\"#&lt;Reality::Measure(5,057,709 person)>\">5,057,709person</span></td>\n",
       "      </tr>\n",
       "    \n",
       "      <tr >\n",
       "        <th style=\"text-align:right; border: 1px solid #B0C6D0; padding: 2px; color:gray; font-variant: small-caps;\">tz_offset</th>\n",
       "        <td style=\"border: 1px solid #B0C6D0; padding: 2px;\"><span style=\"border: 1px solid #B0C6D0; background-color: #DEE7EC; padding: 1px; cursor: pointer;\" title=\"#&lt;Reality::TZOffset(UTC+05:30)>\">+05:30</span></td>\n",
       "      </tr>\n",
       "    \n",
       "  </tbody>\n",
       "</table>"
      ],
      "text/plain": [
       "#<Reality::Entity(Pune):city>"
      ]
     },
     "execution_count": 3,
     "metadata": {},
     "output_type": "execute_result"
    }
   ],
   "source": [
    "require 'reality'\n",
    "require 'reality/iruby'\n",
    "pune = Reality::Entity('Pune')"
   ]
  },
  {
   "cell_type": "code",
   "execution_count": 1,
   "metadata": {
    "collapsed": false
   },
   "outputs": [
    {
     "data": {
      "text/html": [
       "<table><tr><th colspan=\"16\">Daru::DataFrame:88920070  rows: 5  cols: 15<tr><th></th><th>adm_divisions</th><th>area</th><th>awards</th><th>coord</th><th>country</th><th>created_at</th><th>elevation</th><th>head_of_government</th><th>located_in</th><th>long_name</th><th>neighbours</th><th>official_website</th><th>population</th><th>population_metro</th><th>tz_offset</th></tr><tr><td>Kiev</td><td>[\"Solomianka Raion\", \"Dnipro Raion\", \"Podil Raion\", \"Desna Raion\", \"Pechersk Raion\", \"Shevchenko Raion\", \"Darnytsia Raion\", \"Holosiiv Raion\", \"Obolon Raion\", \"Sviatoshyn raion\"]</td><td>839.0</td><td>[\"Order of Friendship of Peoples\"]</td><td>{:lat=>50.45, :lng=>30.523611111111}</td><td>Ukraine</td><td></td><td>179.0</td><td>Vitali Klitschko</td><td>Ukraine</td><td>Kiev</td><td>[\"Kiev Oblast\"]</td><td>http://kievcity.gov.ua</td><td>2845023.0</td><td>3375000.0</td><td>+02:00</td></tr><tr><td>Kharkiv</td><td>[\"Ordzhonikidze District\", \"Shevchenkivskyi District\", \"Kiev District\", \"Comintern District\", \"Moscow District\", \"Zhovtnevy District\", \"Frunze District\", \"Chervonozavodsky District\", \"Lenin District\"]</td><td>350.0</td><td></td><td>{:lat=>50.0, :lng=>36.229166666667}</td><td>Ukraine</td><td>1654-01-01</td><td>152.0</td><td>Hennadiy Kernes</td><td>Kharkiv Oblast</td><td>Kharkiv (Харків)\n",
       "Kharkov (Харьков)</td><td></td><td>http://www.city.kharkov.ua/</td><td>1430885.0</td><td>1732400.0</td><td>+02:00</td></tr><tr><td>Lviv</td><td></td><td>182.01</td><td></td><td>{:lat=>49.83, :lng=>24.014166666667}</td><td>Ukraine</td><td></td><td>296.0</td><td></td><td>Lviv Oblast</td><td></td><td></td><td>http://lviv.travel</td><td>758400.0</td><td></td><td></td></tr><tr><td>Poltava</td><td></td><td>103.0</td><td></td><td>{:lat=>49.574444444444, :lng=>34.568611111111}</td><td>Ukraine</td><td></td><td></td><td></td><td></td><td></td><td></td><td></td><td>294962.0</td><td></td><td></td></tr><tr><td>Odessa</td><td></td><td>236.9</td><td></td><td>{:lat=>46.485722, :lng=>30.743444}</td><td>Ukraine</td><td></td><td>40.0</td><td>Gennadiy Trukhanov</td><td>Odessa Oblast</td><td>Odessa</td><td>[\"Chornomorsk\", \"Kominternivskyi Raion\", \"Biliaivka Raion\", \"Ovidiopol Raion\"]</td><td>http://omr.gov.ua/</td><td>1003705.0</td><td>11910001.0</td><td>+02:00</td></tr></table>"
      ],
      "text/plain": [
       "\n",
       "#<Daru::DataFrame:88920070 @name = 774506a6-2ed1-41c6-a66e-5c923d30894b @size = 5>\n",
       "           adm_divisi       area     awards      coord    country created_at  elevation head_of_go located_in  long_name neighbours official_w population population  tz_offset \n",
       "      Kiev [\"Solomian      839.0 [\"Order of {:lat=>50.    Ukraine        nil      179.0 Vitali Kli    Ukraine       Kiev [\"Kiev Obl http://kie  2845023.0  3375000.0     +02:00 \n",
       "   Kharkiv [\"Ordzhoni      350.0        nil {:lat=>50.    Ukraine 1654-01-01      152.0 Hennadiy K Kharkiv Ob Kharkiv (Х        nil http://www  1430885.0  1732400.0     +02:00 \n",
       "      Lviv        nil     182.01        nil {:lat=>49.    Ukraine        nil      296.0        nil Lviv Oblas        nil        nil http://lvi   758400.0        nil        nil \n",
       "   Poltava        nil      103.0        nil {:lat=>49.    Ukraine        nil        nil        nil        nil        nil        nil        nil   294962.0        nil        nil \n",
       "    Odessa        nil      236.9        nil {:lat=>46.    Ukraine        nil       40.0 Gennadiy T Odessa Obl     Odessa [\"Chornomo http://omr  1003705.0 11910001.0     +02:00 \n"
      ]
     },
     "execution_count": 1,
     "metadata": {},
     "output_type": "execute_result"
    }
   ],
   "source": [
    "require 'reality'\n",
    "Reality::List('Kyiv', 'Kharkiv', 'Lviv', 'Poltava', 'Odessa').to_dataframe"
   ]
  },
  {
   "cell_type": "code",
   "execution_count": 4,
   "metadata": {
    "collapsed": false
   },
   "outputs": [
    {
     "data": {
      "text/html": [
       "<span style=\"border: 1px solid #B0C6D0; background-color: #DEE7EC; padding: 1px; cursor: pointer;\" title=\"#&lt;Reality::Measure(4,387 person/km²)>\">4,387person/km²</span>"
      ],
      "text/plain": [
       "#<Reality::Measure(4,387 person/km²)>"
      ]
     },
     "execution_count": 4,
     "metadata": {},
     "output_type": "execute_result"
    }
   ],
   "source": [
    "pune.population / pune.area"
   ]
  }
 ],
 "metadata": {
  "kernelspec": {
   "display_name": "Ruby 2.2.0",
   "language": "ruby",
   "name": "ruby"
  },
  "language_info": {
   "file_extension": ".rb",
   "mimetype": "application/x-ruby",
   "name": "ruby",
   "version": "2.2.0"
  }
 },
 "nbformat": 4,
 "nbformat_minor": 0
}
