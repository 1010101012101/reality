{
 "cells": [
  {
   "cell_type": "code",
   "execution_count": 4,
   "metadata": {
    "collapsed": false
   },
   "outputs": [
    {
     "data": {
      "text/html": [
       "\n",
       "      <style>\n",
       "        .reality-entity {border-color: '#FFA500;'}\n",
       "        .reality-entity th {font-weight: bold; background-color: #F8F8D3;'}\n",
       "      </style>\n",
       "    <table class='reality-entity'><tr><th style='background-color: #F8F8D3;'>adm_divisions</th><td>#<Reality::List[Buenos Aires?, Buenos Aires Province?, Catamarca Province?, Chaco Province?, Corrientes?, Córdoba Province?, Formosa Province?, Entre Ríos Provinces?, Jujuy Province?, La Pampa Province?, La Rioja Province?, Mendoza Province?, Misiones Province?, Neuquén Province?, Río Negro Province?, Salta Province?, San Juan Province?, San Luis Province?, Santa Cruz Province?, Santa Fe Province?, Santiago del Estero Province?, Tucumán Province?, Tierra del Fuego Province?]></td></tr><tr><th>area</th><td>#<Reality::Measure(2,780,400 km²)></td></tr><tr><th>calling_code</th><td>\"+54\"</td></tr><tr><th>capital</th><td>#<Reality::Entity?(Buenos Aires)></td></tr><tr><th>continent</th><td>#<Reality::Entity?(South America)></td></tr><tr><th>coord</th><td>#<Reality::Geo::Coord(34°0′0″S,64°0′0″W)></td></tr><tr><th>country</th><td>#<Reality::Entity?(Argentina)></td></tr><tr><th>created_at</th><td>Mon, 01 Jan 1816</td></tr><tr><th>currency</th><td>#<Reality::Entity?(peso)></td></tr><tr><th>gdp_nominal</th><td>#<Reality::Measure(537,659,972,702 $)></td></tr><tr><th>gdp_ppp</th><td>#<Reality::Measure(964,279,000,000 $)></td></tr><tr><th>head_of_government</th><td>#<Reality::Entity?(Mauricio Macri)></td></tr><tr><th>head_of_state</th><td>#<Reality::Entity?(Mauricio Macri)></td></tr><tr><th>highest_point</th><td>#<Reality::Entity?(Aconcagua)></td></tr><tr><th>iso2_code</th><td>\"AR\"</td></tr><tr><th>iso3_code</th><td>\"ARG\"</td></tr><tr><th>long_name</th><td>\"Argentine Republic\"</td></tr><tr><th>neighbours</th><td>#<Reality::List[Uruguay?, Brazil?, Chile?, Paraguay?, Bolivia?]></td></tr><tr><th>official_website</th><td>\"http://www.argentina.gob.ar/\"</td></tr><tr><th>organizations</th><td>#<Reality::List[United Nations?, Union of South American Nations?, Mercosur?, World Trade Organization?, G-20 major economies?, Central American Bank for Economic Integration?, International Bank for Reconstruction and Development?, African Development Bank?, Andean Community of Nations?, International Finance Corporation?, Australia Group?, International Development Association?, International Centre for Settlement of Investment Disputes?, Multilateral Investment Guarantee Agency?, Agency for the Prohibition of Nuclear Weapons in Latin America and the Caribbean?]></td></tr><tr><th>part_of</th><td>#<Reality::List[Latin America?]></td></tr><tr><th>population</th><td>#<Reality::Measure(43,417,000 person)></td></tr><tr><th>tld</th><td>\".ar\"</td></tr><tr><th>tz_offset</th><td>#<Reality::TZOffset(UTC-03:00)></td></tr></table>"
      ],
      "text/plain": [
       "#<Reality::Entity(Argentina):country>"
      ]
     },
     "execution_count": 4,
     "metadata": {},
     "output_type": "execute_result"
    }
   ],
   "source": [
    "require 'reality'\n",
    "require 'reality/iruby'\n",
    "Reality::List('Argentina', 'Bolivia', 'Chile').first.load!"
   ]
  }
 ],
 "metadata": {
  "kernelspec": {
   "display_name": "Ruby 2.2.0",
   "language": "ruby",
   "name": "ruby"
  },
  "language_info": {
   "file_extension": ".rb",
   "mimetype": "application/x-ruby",
   "name": "ruby",
   "version": "2.2.0"
  }
 },
 "nbformat": 4,
 "nbformat_minor": 0
}
