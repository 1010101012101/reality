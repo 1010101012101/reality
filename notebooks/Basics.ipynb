{
 "cells": [
  {
   "cell_type": "code",
   "execution_count": 3,
   "metadata": {
    "collapsed": false
   },
   "outputs": [
    {
     "data": {
      "text/html": [
       "<table style=\"border: 1px solid #B0C6D0; border-collapse: collapse;\">\n",
       "  <thead>\n",
       "    <tr><th colspan=\"2\"  style=\"border: 1px solid #B0C6D0; padding: 4px; font-weight: bold; color: #B0C6D0; font-size: big; text-align: center;\">Pune</th></tr>\n",
       "  </thead>\n",
       "  <tbody>\n",
       "    \n",
       "      <tr >\n",
       "        <th style=\"text-align:right; border: 1px solid #B0C6D0; padding: 2px; color:gray; font-variant: small-caps;\">area</th>\n",
       "        <td style=\"border: 1px solid #B0C6D0; padding: 2px;\"><span style=\"border: 1px solid #B0C6D0; background-color: #DEE7EC; padding: 1px; cursor: pointer;\" title=\"#&lt;Reality::Measure(710 km²)>\">710km²</span></td>\n",
       "      </tr>\n",
       "    \n",
       "      <tr >\n",
       "        <th style=\"text-align:right; border: 1px solid #B0C6D0; padding: 2px; color:gray; font-variant: small-caps;\">continent</th>\n",
       "        <td style=\"border: 1px solid #B0C6D0; padding: 2px;\"><span style=\"border: 1px solid #B0C6D0; background-color: #DEE7EC; padding: 1px; cursor: pointer;\" title=\"#&lt;Reality::Entity?(Asia)>\">Asia</span></td>\n",
       "      </tr>\n",
       "    \n",
       "      <tr >\n",
       "        <th style=\"text-align:right; border: 1px solid #B0C6D0; padding: 2px; color:gray; font-variant: small-caps;\">coord</th>\n",
       "        <td style=\"border: 1px solid #B0C6D0; padding: 2px;\"><span style=\"border: 1px solid #B0C6D0; background-color: #DEE7EC; padding: 1px; cursor: pointer;\" title=\"#&lt;Reality::Geo::Coord(18°31′25″N,73°50′52″E)>\">18°31′25″N, 73°50′52″E</span></td>\n",
       "      </tr>\n",
       "    \n",
       "      <tr >\n",
       "        <th style=\"text-align:right; border: 1px solid #B0C6D0; padding: 2px; color:gray; font-variant: small-caps;\">country</th>\n",
       "        <td style=\"border: 1px solid #B0C6D0; padding: 2px;\"><span style=\"border: 1px solid #B0C6D0; background-color: #DEE7EC; padding: 1px; cursor: pointer;\" title=\"#&lt;Reality::Entity?(India)>\">India</span></td>\n",
       "      </tr>\n",
       "    \n",
       "      <tr >\n",
       "        <th style=\"text-align:right; border: 1px solid #B0C6D0; padding: 2px; color:gray; font-variant: small-caps;\">elevation</th>\n",
       "        <td style=\"border: 1px solid #B0C6D0; padding: 2px;\"><span style=\"border: 1px solid #B0C6D0; background-color: #DEE7EC; padding: 1px; cursor: pointer;\" title=\"#&lt;Reality::Measure(561 m)>\">561m</span></td>\n",
       "      </tr>\n",
       "    \n",
       "      <tr >\n",
       "        <th style=\"text-align:right; border: 1px solid #B0C6D0; padding: 2px; color:gray; font-variant: small-caps;\">located_in</th>\n",
       "        <td style=\"border: 1px solid #B0C6D0; padding: 2px;\"><span style=\"border: 1px solid #B0C6D0; background-color: #DEE7EC; padding: 1px; cursor: pointer;\" title=\"#&lt;Reality::Entity?(Pune district)>\">Pune district</span></td>\n",
       "      </tr>\n",
       "    \n",
       "      <tr >\n",
       "        <th style=\"text-align:right; border: 1px solid #B0C6D0; padding: 2px; color:gray; font-variant: small-caps;\">long_name</th>\n",
       "        <td style=\"border: 1px solid #B0C6D0; padding: 2px;\">Pune</td>\n",
       "      </tr>\n",
       "    \n",
       "      <tr >\n",
       "        <th style=\"text-align:right; border: 1px solid #B0C6D0; padding: 2px; color:gray; font-variant: small-caps;\">official_website</th>\n",
       "        <td style=\"border: 1px solid #B0C6D0; padding: 2px;\">http://punecorporation.org</td>\n",
       "      </tr>\n",
       "    \n",
       "      <tr >\n",
       "        <th style=\"text-align:right; border: 1px solid #B0C6D0; padding: 2px; color:gray; font-variant: small-caps;\">population</th>\n",
       "        <td style=\"border: 1px solid #B0C6D0; padding: 2px;\"><span style=\"border: 1px solid #B0C6D0; background-color: #DEE7EC; padding: 1px; cursor: pointer;\" title=\"#&lt;Reality::Measure(3,115,431 person)>\">3,115,431person</span></td>\n",
       "      </tr>\n",
       "    \n",
       "      <tr >\n",
       "        <th style=\"text-align:right; border: 1px solid #B0C6D0; padding: 2px; color:gray; font-variant: small-caps;\">population_metro</th>\n",
       "        <td style=\"border: 1px solid #B0C6D0; padding: 2px;\"><span style=\"border: 1px solid #B0C6D0; background-color: #DEE7EC; padding: 1px; cursor: pointer;\" title=\"#&lt;Reality::Measure(5,057,709 person)>\">5,057,709person</span></td>\n",
       "      </tr>\n",
       "    \n",
       "      <tr >\n",
       "        <th style=\"text-align:right; border: 1px solid #B0C6D0; padding: 2px; color:gray; font-variant: small-caps;\">tz_offset</th>\n",
       "        <td style=\"border: 1px solid #B0C6D0; padding: 2px;\"><span style=\"border: 1px solid #B0C6D0; background-color: #DEE7EC; padding: 1px; cursor: pointer;\" title=\"#&lt;Reality::TZOffset(UTC+05:30)>\">+05:30</span></td>\n",
       "      </tr>\n",
       "    \n",
       "  </tbody>\n",
       "</table>"
      ],
      "text/plain": [
       "#<Reality::Entity(Pune):city>"
      ]
     },
     "execution_count": 3,
     "metadata": {},
     "output_type": "execute_result"
    }
   ],
   "source": [
    "require 'reality'\n",
    "require 'reality/iruby'\n",
    "pune = Reality::Entity('Pune')"
   ]
  },
  {
   "cell_type": "code",
   "execution_count": 4,
   "metadata": {
    "collapsed": false
   },
   "outputs": [
    {
     "data": {
      "text/html": [
       "<span style=\"border: 1px solid #B0C6D0; background-color: #DEE7EC; padding: 1px; cursor: pointer;\" title=\"#&lt;Reality::Measure(4,387 person/km²)>\">4,387person/km²</span>"
      ],
      "text/plain": [
       "#<Reality::Measure(4,387 person/km²)>"
      ]
     },
     "execution_count": 4,
     "metadata": {},
     "output_type": "execute_result"
    }
   ],
   "source": [
    "pune.population / pune.area"
   ]
  }
 ],
 "metadata": {
  "kernelspec": {
   "display_name": "Ruby 2.2.0",
   "language": "ruby",
   "name": "ruby"
  },
  "language_info": {
   "file_extension": ".rb",
   "mimetype": "application/x-ruby",
   "name": "ruby",
   "version": "2.2.0"
  }
 },
 "nbformat": 4,
 "nbformat_minor": 0
}
