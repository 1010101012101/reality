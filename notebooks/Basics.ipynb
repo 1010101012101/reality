{
 "cells": [
  {
   "cell_type": "code",
   "execution_count": 7,
   "metadata": {
    "collapsed": false
   },
   "outputs": [
    {
     "data": {
      "text/html": [
       "<table style=\"border: 1px solid #B0C6D0; border-collapse: collapse;\">\n",
       "  \n",
       "    <tr >\n",
       "      <th style=\"text-align:right; border: 1px solid #B0C6D0; padding: 2px; color:gray; font-variant: small-caps;\">adm_divisions</th>\n",
       "      <td style=\"border: 1px solid #B0C6D0; padding: 2px;\">[<span style=\"border: 1px solid #B0C6D0; background-color: #DEE7EC; padding: 1px; cursor: pointer;\" title=\"#&lt;Reality::Entity?(Ordzhonikidze District)>\">Ordzhonikidze District</span>, <span style=\"border: 1px solid #B0C6D0; background-color: #DEE7EC; padding: 1px; cursor: pointer;\" title=\"#&lt;Reality::Entity?(Shevchenkivskyi District)>\">Shevchenkivskyi District</span>, <span style=\"border: 1px solid #B0C6D0; background-color: #DEE7EC; padding: 1px; cursor: pointer;\" title=\"#&lt;Reality::Entity?(Kiev District)>\">Kiev District</span>, <span style=\"border: 1px solid #B0C6D0; background-color: #DEE7EC; padding: 1px; cursor: pointer;\" title=\"#&lt;Reality::Entity?(Comintern District)>\">Comintern District</span>, <span style=\"border: 1px solid #B0C6D0; background-color: #DEE7EC; padding: 1px; cursor: pointer;\" title=\"#&lt;Reality::Entity?(Moscow District)>\">Moscow District</span>, <span style=\"border: 1px solid #B0C6D0; background-color: #DEE7EC; padding: 1px; cursor: pointer;\" title=\"#&lt;Reality::Entity?(Zhovtnevy District)>\">Zhovtnevy District</span>, <span style=\"border: 1px solid #B0C6D0; background-color: #DEE7EC; padding: 1px; cursor: pointer;\" title=\"#&lt;Reality::Entity?(Frunze District)>\">Frunze District</span>, <span style=\"border: 1px solid #B0C6D0; background-color: #DEE7EC; padding: 1px; cursor: pointer;\" title=\"#&lt;Reality::Entity?(Chervonozavodsky District)>\">Chervonozavodsky District</span>, <span style=\"border: 1px solid #B0C6D0; background-color: #DEE7EC; padding: 1px; cursor: pointer;\" title=\"#&lt;Reality::Entity?(Lenin District)>\">Lenin District</span>]</td>\n",
       "    </tr>\n",
       "  \n",
       "    <tr >\n",
       "      <th style=\"text-align:right; border: 1px solid #B0C6D0; padding: 2px; color:gray; font-variant: small-caps;\">area</th>\n",
       "      <td style=\"border: 1px solid #B0C6D0; padding: 2px;\"><span style=\"border: 1px solid #B0C6D0; background-color: #DEE7EC; padding: 1px; cursor: pointer;\" title=\"#&lt;Reality::Measure(350 km²)>\">350km²</span></td>\n",
       "    </tr>\n",
       "  \n",
       "    <tr >\n",
       "      <th style=\"text-align:right; border: 1px solid #B0C6D0; padding: 2px; color:gray; font-variant: small-caps;\">coord</th>\n",
       "      <td style=\"border: 1px solid #B0C6D0; padding: 2px;\"><span style=\"border: 1px solid #B0C6D0; background-color: #DEE7EC; padding: 1px; cursor: pointer;\" title=\"#&lt;Reality::Geo::Coord(50°0′0″N,36°13′45″E)>\">50°0′0″N, 36°13′45″E</span></td>\n",
       "    </tr>\n",
       "  \n",
       "    <tr >\n",
       "      <th style=\"text-align:right; border: 1px solid #B0C6D0; padding: 2px; color:gray; font-variant: small-caps;\">country</th>\n",
       "      <td style=\"border: 1px solid #B0C6D0; padding: 2px;\"><span style=\"border: 1px solid #B0C6D0; background-color: #DEE7EC; padding: 1px; cursor: pointer;\" title=\"#&lt;Reality::Entity?(Ukraine)>\">Ukraine</span></td>\n",
       "    </tr>\n",
       "  \n",
       "    <tr >\n",
       "      <th style=\"text-align:right; border: 1px solid #B0C6D0; padding: 2px; color:gray; font-variant: small-caps;\">created_at</th>\n",
       "      <td style=\"border: 1px solid #B0C6D0; padding: 2px;\">1654-01-01</td>\n",
       "    </tr>\n",
       "  \n",
       "    <tr >\n",
       "      <th style=\"text-align:right; border: 1px solid #B0C6D0; padding: 2px; color:gray; font-variant: small-caps;\">elevation</th>\n",
       "      <td style=\"border: 1px solid #B0C6D0; padding: 2px;\"><span style=\"border: 1px solid #B0C6D0; background-color: #DEE7EC; padding: 1px; cursor: pointer;\" title=\"#&lt;Reality::Measure(152 m)>\">152m</span></td>\n",
       "    </tr>\n",
       "  \n",
       "    <tr >\n",
       "      <th style=\"text-align:right; border: 1px solid #B0C6D0; padding: 2px; color:gray; font-variant: small-caps;\">head_of_government</th>\n",
       "      <td style=\"border: 1px solid #B0C6D0; padding: 2px;\"><span style=\"border: 1px solid #B0C6D0; background-color: #DEE7EC; padding: 1px; cursor: pointer;\" title=\"#&lt;Reality::Entity?(Hennadiy Kernes)>\">Hennadiy Kernes</span></td>\n",
       "    </tr>\n",
       "  \n",
       "    <tr >\n",
       "      <th style=\"text-align:right; border: 1px solid #B0C6D0; padding: 2px; color:gray; font-variant: small-caps;\">located_in</th>\n",
       "      <td style=\"border: 1px solid #B0C6D0; padding: 2px;\"><span style=\"border: 1px solid #B0C6D0; background-color: #DEE7EC; padding: 1px; cursor: pointer;\" title=\"#&lt;Reality::Entity?(Kharkiv Oblast)>\">Kharkiv Oblast</span></td>\n",
       "    </tr>\n",
       "  \n",
       "    <tr >\n",
       "      <th style=\"text-align:right; border: 1px solid #B0C6D0; padding: 2px; color:gray; font-variant: small-caps;\">long_name</th>\n",
       "      <td style=\"border: 1px solid #B0C6D0; padding: 2px;\">Kharkiv (Харків)\n",
       "Kharkov (Харьков)</td>\n",
       "    </tr>\n",
       "  \n",
       "    <tr >\n",
       "      <th style=\"text-align:right; border: 1px solid #B0C6D0; padding: 2px; color:gray; font-variant: small-caps;\">official_website</th>\n",
       "      <td style=\"border: 1px solid #B0C6D0; padding: 2px;\">http://www.city.kharkov.ua/</td>\n",
       "    </tr>\n",
       "  \n",
       "    <tr >\n",
       "      <th style=\"text-align:right; border: 1px solid #B0C6D0; padding: 2px; color:gray; font-variant: small-caps;\">population</th>\n",
       "      <td style=\"border: 1px solid #B0C6D0; padding: 2px;\"><span style=\"border: 1px solid #B0C6D0; background-color: #DEE7EC; padding: 1px; cursor: pointer;\" title=\"#&lt;Reality::Measure(1,430,885 person)>\">1,430,885person</span></td>\n",
       "    </tr>\n",
       "  \n",
       "    <tr >\n",
       "      <th style=\"text-align:right; border: 1px solid #B0C6D0; padding: 2px; color:gray; font-variant: small-caps;\">population_metro</th>\n",
       "      <td style=\"border: 1px solid #B0C6D0; padding: 2px;\"><span style=\"border: 1px solid #B0C6D0; background-color: #DEE7EC; padding: 1px; cursor: pointer;\" title=\"#&lt;Reality::Measure(1,732,400 person)>\">1,732,400person</span></td>\n",
       "    </tr>\n",
       "  \n",
       "    <tr >\n",
       "      <th style=\"text-align:right; border: 1px solid #B0C6D0; padding: 2px; color:gray; font-variant: small-caps;\">tz_offset</th>\n",
       "      <td style=\"border: 1px solid #B0C6D0; padding: 2px;\"><span style=\"border: 1px solid #B0C6D0; background-color: #DEE7EC; padding: 1px; cursor: pointer;\" title=\"#&lt;Reality::TZOffset(UTC+02:00)>\">+02:00</span></td>\n",
       "    </tr>\n",
       "  \n",
       "</table>"
      ],
      "text/plain": [
       "#<Reality::Entity(Kharkiv):city>"
      ]
     },
     "execution_count": 7,
     "metadata": {},
     "output_type": "execute_result"
    }
   ],
   "source": [
    "require 'reality'\n",
    "require 'reality/iruby'\n",
    "Reality::Entity('Kharkiv')"
   ]
  }
 ],
 "metadata": {
  "kernelspec": {
   "display_name": "Ruby 2.2.0",
   "language": "ruby",
   "name": "ruby"
  },
  "language_info": {
   "file_extension": ".rb",
   "mimetype": "application/x-ruby",
   "name": "ruby",
   "version": "2.2.0"
  }
 },
 "nbformat": 4,
 "nbformat_minor": 0
}
