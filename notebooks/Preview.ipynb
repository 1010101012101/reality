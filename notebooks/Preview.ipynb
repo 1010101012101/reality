{
 "cells": [
  {
   "cell_type": "markdown",
   "metadata": {},
   "source": [
    "# Reality loves IRuby!\n",
    "\n",
    "[reality](https://github.com/molybdenum-99/reality) is gem allowing easy\n",
    "and intuitive access to open data about world, using Wikipedia/Wikidata\n",
    "as \"table of contents\", and growing list of other services to make data\n",
    "actual and useful.\n",
    "\n",
    "You are looking at preview notebook, showing how Reality may be integrated\n",
    "with [IRuby](https://github.com/SciRuby/iruby)/[SciRuby](https://github.com/SciRuby)\n",
    "projects.\n",
    "\n",
    "You can also experiment yourself, by adding to your Gemfile:\n",
    "\n",
    "```ruby\n",
    "gem 'reality', git: 'https://github.com/molybdenum-99/reality.git', branch: 'iruby'\n",
    "```\n",
    "\n",
    "Here are some examples of what can be done with Reality:"
   ]
  },
  {
   "cell_type": "markdown",
   "metadata": {},
   "source": [
    "## Entity"
   ]
  },
  {
   "cell_type": "code",
   "execution_count": 1,
   "metadata": {
    "collapsed": false
   },
   "outputs": [
    {
     "data": {
      "text/html": [
       "<table style=\"border: 1px solid #B0C6D0; border-collapse: collapse;\">\n",
       "  <thead>\n",
       "    <tr><th colspan=\"2\"  style=\"border: 1px solid #B0C6D0; padding: 4px; font-weight: bold; color: #B0C6D0; font-size: big; text-align: center;\">Pune</th></tr>\n",
       "  </thead>\n",
       "  <tbody>\n",
       "    \n",
       "      <tr >\n",
       "        <th style=\"text-align:right; border: 1px solid #B0C6D0; padding: 2px; color:gray; font-variant: small-caps;\">area</th>\n",
       "        <td style=\"border: 1px solid #B0C6D0; padding: 2px;\"><span style=\"border: 1px solid #B0C6D0; background-color: #DEE7EC; padding: 1px; cursor: pointer;\" title=\"#&lt;Reality::Measure(710 km²)>\">710km²</span></td>\n",
       "      </tr>\n",
       "    \n",
       "      <tr >\n",
       "        <th style=\"text-align:right; border: 1px solid #B0C6D0; padding: 2px; color:gray; font-variant: small-caps;\">continent</th>\n",
       "        <td style=\"border: 1px solid #B0C6D0; padding: 2px;\"><span style=\"border: 1px solid #B0C6D0; background-color: #DEE7EC; padding: 1px; cursor: pointer;\" title=\"#&lt;Reality::Entity?(Asia)>\">Asia</span></td>\n",
       "      </tr>\n",
       "    \n",
       "      <tr >\n",
       "        <th style=\"text-align:right; border: 1px solid #B0C6D0; padding: 2px; color:gray; font-variant: small-caps;\">coord</th>\n",
       "        <td style=\"border: 1px solid #B0C6D0; padding: 2px;\"><span style=\"border: 1px solid #B0C6D0; background-color: #DEE7EC; padding: 1px; cursor: pointer;\" title=\"#&lt;Reality::Geo::Coord(18°31′25″N,73°50′52″E)>\">18°31′25″N, 73°50′52″E</span></td>\n",
       "      </tr>\n",
       "    \n",
       "      <tr >\n",
       "        <th style=\"text-align:right; border: 1px solid #B0C6D0; padding: 2px; color:gray; font-variant: small-caps;\">country</th>\n",
       "        <td style=\"border: 1px solid #B0C6D0; padding: 2px;\"><span style=\"border: 1px solid #B0C6D0; background-color: #DEE7EC; padding: 1px; cursor: pointer;\" title=\"#&lt;Reality::Entity?(India)>\">India</span></td>\n",
       "      </tr>\n",
       "    \n",
       "      <tr >\n",
       "        <th style=\"text-align:right; border: 1px solid #B0C6D0; padding: 2px; color:gray; font-variant: small-caps;\">elevation</th>\n",
       "        <td style=\"border: 1px solid #B0C6D0; padding: 2px;\"><span style=\"border: 1px solid #B0C6D0; background-color: #DEE7EC; padding: 1px; cursor: pointer;\" title=\"#&lt;Reality::Measure(561 m)>\">561m</span></td>\n",
       "      </tr>\n",
       "    \n",
       "      <tr >\n",
       "        <th style=\"text-align:right; border: 1px solid #B0C6D0; padding: 2px; color:gray; font-variant: small-caps;\">located_in</th>\n",
       "        <td style=\"border: 1px solid #B0C6D0; padding: 2px;\"><span style=\"border: 1px solid #B0C6D0; background-color: #DEE7EC; padding: 1px; cursor: pointer;\" title=\"#&lt;Reality::Entity?(Pune district)>\">Pune district</span></td>\n",
       "      </tr>\n",
       "    \n",
       "      <tr >\n",
       "        <th style=\"text-align:right; border: 1px solid #B0C6D0; padding: 2px; color:gray; font-variant: small-caps;\">long_name</th>\n",
       "        <td style=\"border: 1px solid #B0C6D0; padding: 2px;\">Pune</td>\n",
       "      </tr>\n",
       "    \n",
       "      <tr >\n",
       "        <th style=\"text-align:right; border: 1px solid #B0C6D0; padding: 2px; color:gray; font-variant: small-caps;\">official_website</th>\n",
       "        <td style=\"border: 1px solid #B0C6D0; padding: 2px;\">http://punecorporation.org</td>\n",
       "      </tr>\n",
       "    \n",
       "      <tr >\n",
       "        <th style=\"text-align:right; border: 1px solid #B0C6D0; padding: 2px; color:gray; font-variant: small-caps;\">population</th>\n",
       "        <td style=\"border: 1px solid #B0C6D0; padding: 2px;\"><span style=\"border: 1px solid #B0C6D0; background-color: #DEE7EC; padding: 1px; cursor: pointer;\" title=\"#&lt;Reality::Measure(3,115,431 person)>\">3,115,431person</span></td>\n",
       "      </tr>\n",
       "    \n",
       "      <tr >\n",
       "        <th style=\"text-align:right; border: 1px solid #B0C6D0; padding: 2px; color:gray; font-variant: small-caps;\">population_metro</th>\n",
       "        <td style=\"border: 1px solid #B0C6D0; padding: 2px;\"><span style=\"border: 1px solid #B0C6D0; background-color: #DEE7EC; padding: 1px; cursor: pointer;\" title=\"#&lt;Reality::Measure(5,057,709 person)>\">5,057,709person</span></td>\n",
       "      </tr>\n",
       "    \n",
       "      <tr >\n",
       "        <th style=\"text-align:right; border: 1px solid #B0C6D0; padding: 2px; color:gray; font-variant: small-caps;\">tz_offset</th>\n",
       "        <td style=\"border: 1px solid #B0C6D0; padding: 2px;\"><span style=\"border: 1px solid #B0C6D0; background-color: #DEE7EC; padding: 1px; cursor: pointer;\" title=\"#&lt;Reality::TZOffset(UTC+05:30)>\">+05:30</span></td>\n",
       "      </tr>\n",
       "    \n",
       "  </tbody>\n",
       "</table>"
      ],
      "text/plain": [
       "#<Reality::Entity(Pune):city>"
      ]
     },
     "execution_count": 1,
     "metadata": {},
     "output_type": "execute_result"
    }
   ],
   "source": [
    "require 'reality'\n",
    "pune = Reality::Entity('Pune')"
   ]
  },
  {
   "cell_type": "markdown",
   "metadata": {},
   "source": [
    "Now we can work with entity properties in many useful ways, like this:"
   ]
  },
  {
   "cell_type": "code",
   "execution_count": 3,
   "metadata": {
    "collapsed": false
   },
   "outputs": [
    {
     "data": {
      "text/html": [
       "<span style=\"border: 1px solid #B0C6D0; background-color: #DEE7EC; padding: 1px; cursor: pointer;\" title=\"#&lt;Reality::Measure(4,387 person/km²)>\">4,387person/km²</span>"
      ],
      "text/plain": [
       "#<Reality::Measure(4,387 person/km²)>"
      ]
     },
     "execution_count": 3,
     "metadata": {},
     "output_type": "execute_result"
    }
   ],
   "source": [
    "pune.population / pune.area"
   ]
  },
  {
   "cell_type": "markdown",
   "metadata": {},
   "source": [
    "Or this (using `:demo` config for connection to other services):"
   ]
  },
  {
   "cell_type": "code",
   "execution_count": 2,
   "metadata": {
    "collapsed": false
   },
   "outputs": [
    {
     "data": {
      "text/html": [
       "<span style=\"border: 1px solid #B0C6D0; background-color: #DEE7EC; padding: 1px; cursor: pointer;\" title=\"#&lt;Reality::Weather(31°C, Clear)>\">31°C, Clear</span>"
      ],
      "text/plain": [
       "#<Reality::Weather(31°C, Clear)>"
      ]
     },
     "execution_count": 2,
     "metadata": {},
     "output_type": "execute_result"
    }
   ],
   "source": [
    "Reality.configure(:demo)\n",
    "pune.coord.weather"
   ]
  },
  {
   "cell_type": "markdown",
   "metadata": {},
   "source": [
    "With experimental `Reality::Names` module you can even have any Ruby constant treated as `Reality::Entity`:"
   ]
  },
  {
   "cell_type": "code",
   "execution_count": 6,
   "metadata": {
    "collapsed": false,
    "scrolled": true
   },
   "outputs": [
    {
     "data": {
      "text/html": [
       "<table style=\"border: 1px solid #B0C6D0; border-collapse: collapse;\">\n",
       "  <thead>\n",
       "    <tr><th colspan=\"2\"  style=\"border: 1px solid #B0C6D0; padding: 4px; font-weight: bold; color: #B0C6D0; font-size: big; text-align: center;\">Amsterdam</th></tr>\n",
       "  </thead>\n",
       "  <tbody>\n",
       "    \n",
       "      <tr >\n",
       "        <th style=\"text-align:right; border: 1px solid #B0C6D0; padding: 2px; color:gray; font-variant: small-caps;\">area</th>\n",
       "        <td style=\"border: 1px solid #B0C6D0; padding: 2px;\"><span style=\"border: 1px solid #B0C6D0; background-color: #DEE7EC; padding: 1px; cursor: pointer;\" title=\"#&lt;Reality::Measure(219 km²)>\">219km²</span></td>\n",
       "      </tr>\n",
       "    \n",
       "      <tr >\n",
       "        <th style=\"text-align:right; border: 1px solid #B0C6D0; padding: 2px; color:gray; font-variant: small-caps;\">coord</th>\n",
       "        <td style=\"border: 1px solid #B0C6D0; padding: 2px;\"><span style=\"border: 1px solid #B0C6D0; background-color: #DEE7EC; padding: 1px; cursor: pointer;\" title=\"#&lt;Reality::Geo::Coord(52°22′60″N,4°54′0″E)>\">52°22′60″N, 4°54′0″E</span></td>\n",
       "      </tr>\n",
       "    \n",
       "      <tr >\n",
       "        <th style=\"text-align:right; border: 1px solid #B0C6D0; padding: 2px; color:gray; font-variant: small-caps;\">country</th>\n",
       "        <td style=\"border: 1px solid #B0C6D0; padding: 2px;\"><span style=\"border: 1px solid #B0C6D0; background-color: #DEE7EC; padding: 1px; cursor: pointer;\" title=\"#&lt;Reality::Entity?(Netherlands)>\">Netherlands</span></td>\n",
       "      </tr>\n",
       "    \n",
       "      <tr >\n",
       "        <th style=\"text-align:right; border: 1px solid #B0C6D0; padding: 2px; color:gray; font-variant: small-caps;\">elevation</th>\n",
       "        <td style=\"border: 1px solid #B0C6D0; padding: 2px;\"><span style=\"border: 1px solid #B0C6D0; background-color: #DEE7EC; padding: 1px; cursor: pointer;\" title=\"#&lt;Reality::Measure(2 m)>\">2m</span></td>\n",
       "      </tr>\n",
       "    \n",
       "      <tr >\n",
       "        <th style=\"text-align:right; border: 1px solid #B0C6D0; padding: 2px; color:gray; font-variant: small-caps;\">head_of_government</th>\n",
       "        <td style=\"border: 1px solid #B0C6D0; padding: 2px;\"><span style=\"border: 1px solid #B0C6D0; background-color: #DEE7EC; padding: 1px; cursor: pointer;\" title=\"#&lt;Reality::Entity?(Eberhard van der Laan)>\">Eberhard van der Laan</span></td>\n",
       "      </tr>\n",
       "    \n",
       "      <tr >\n",
       "        <th style=\"text-align:right; border: 1px solid #B0C6D0; padding: 2px; color:gray; font-variant: small-caps;\">located_in</th>\n",
       "        <td style=\"border: 1px solid #B0C6D0; padding: 2px;\"><span style=\"border: 1px solid #B0C6D0; background-color: #DEE7EC; padding: 1px; cursor: pointer;\" title=\"#&lt;Reality::Entity?(Amsterdam municipality)>\">Amsterdam municipality</span></td>\n",
       "      </tr>\n",
       "    \n",
       "      <tr >\n",
       "        <th style=\"text-align:right; border: 1px solid #B0C6D0; padding: 2px; color:gray; font-variant: small-caps;\">long_name</th>\n",
       "        <td style=\"border: 1px solid #B0C6D0; padding: 2px;\">Amsterdam</td>\n",
       "      </tr>\n",
       "    \n",
       "      <tr >\n",
       "        <th style=\"text-align:right; border: 1px solid #B0C6D0; padding: 2px; color:gray; font-variant: small-caps;\">neighbours</th>\n",
       "        <td style=\"border: 1px solid #B0C6D0; padding: 2px;\">[<span style=\"border: 1px solid #B0C6D0; background-color: #DEE7EC; padding: 1px; cursor: pointer;\" title=\"#&lt;Reality::Entity?(Diemen)>\">Diemen</span>, <span style=\"border: 1px solid #B0C6D0; background-color: #DEE7EC; padding: 1px; cursor: pointer;\" title=\"#&lt;Reality::Entity?(Haarlemmerliede en Spaarnwoude)>\">Haarlemmerliede en Spaarnwoude</span>, <span style=\"border: 1px solid #B0C6D0; background-color: #DEE7EC; padding: 1px; cursor: pointer;\" title=\"#&lt;Reality::Entity?(Ouder-Amstel)>\">Ouder-Amstel</span>, <span style=\"border: 1px solid #B0C6D0; background-color: #DEE7EC; padding: 1px; cursor: pointer;\" title=\"#&lt;Reality::Entity?(Weesp)>\">Weesp</span>]</td>\n",
       "      </tr>\n",
       "    \n",
       "      <tr >\n",
       "        <th style=\"text-align:right; border: 1px solid #B0C6D0; padding: 2px; color:gray; font-variant: small-caps;\">official_website</th>\n",
       "        <td style=\"border: 1px solid #B0C6D0; padding: 2px;\">http://www.amsterdam.nl</td>\n",
       "      </tr>\n",
       "    \n",
       "      <tr >\n",
       "        <th style=\"text-align:right; border: 1px solid #B0C6D0; padding: 2px; color:gray; font-variant: small-caps;\">population</th>\n",
       "        <td style=\"border: 1px solid #B0C6D0; padding: 2px;\"><span style=\"border: 1px solid #B0C6D0; background-color: #DEE7EC; padding: 1px; cursor: pointer;\" title=\"#&lt;Reality::Measure(825,080 person)>\">825,080person</span></td>\n",
       "      </tr>\n",
       "    \n",
       "      <tr >\n",
       "        <th style=\"text-align:right; border: 1px solid #B0C6D0; padding: 2px; color:gray; font-variant: small-caps;\">population_metro</th>\n",
       "        <td style=\"border: 1px solid #B0C6D0; padding: 2px;\"><span style=\"border: 1px solid #B0C6D0; background-color: #DEE7EC; padding: 1px; cursor: pointer;\" title=\"#&lt;Reality::Measure(1,604,155 person)>\">1,604,155person</span></td>\n",
       "      </tr>\n",
       "    \n",
       "      <tr >\n",
       "        <th style=\"text-align:right; border: 1px solid #B0C6D0; padding: 2px; color:gray; font-variant: small-caps;\">tz_offset</th>\n",
       "        <td style=\"border: 1px solid #B0C6D0; padding: 2px;\"><span style=\"border: 1px solid #B0C6D0; background-color: #DEE7EC; padding: 1px; cursor: pointer;\" title=\"#&lt;Reality::TZOffset(UTC+01:00)>\">+01:00</span></td>\n",
       "      </tr>\n",
       "    \n",
       "  </tbody>\n",
       "</table>"
      ],
      "text/plain": [
       "#<Reality::Entity(Amsterdam):city>"
      ]
     },
     "execution_count": 6,
     "metadata": {},
     "output_type": "execute_result"
    }
   ],
   "source": [
    "include Reality::Names\n",
    "Amsterdam"
   ]
  },
  {
   "cell_type": "markdown",
   "metadata": {},
   "source": [
    "## Lists of entities\n",
    "\n",
    "`Reality::List` is an `Array` descendant, used for grouping and batch loading of entities. In context of IRuby notebooks, it is also useful for output and conversions."
   ]
  },
  {
   "cell_type": "code",
   "execution_count": 7,
   "metadata": {
    "collapsed": false
   },
   "outputs": [
    {
     "data": {
      "text/html": [
       "[<span style=\"border: 1px solid #B0C6D0; background-color: #DEE7EC; padding: 1px; cursor: pointer;\" title=\"#&lt;Reality::Entity(Argentina):country>\">Argentina</span>, <span style=\"border: 1px solid #B0C6D0; background-color: #DEE7EC; padding: 1px; cursor: pointer;\" title=\"#&lt;Reality::Entity(Bolivia):country>\">Bolivia</span>, <span style=\"border: 1px solid #B0C6D0; background-color: #DEE7EC; padding: 1px; cursor: pointer;\" title=\"#&lt;Reality::Entity(Chile):country>\">Chile</span>]"
      ],
      "text/plain": [
       "#<Reality::List[Argentina, Bolivia, Chile]>"
      ]
     },
     "execution_count": 7,
     "metadata": {},
     "output_type": "execute_result"
    }
   ],
   "source": [
    "countries = Reality::List('Argentina', 'Bolivia', 'Chile')\n",
    "countries.load!"
   ]
  },
  {
   "cell_type": "markdown",
   "metadata": {},
   "source": [
    "Let's see, what inside of the list:"
   ]
  },
  {
   "cell_type": "code",
   "execution_count": 8,
   "metadata": {
    "collapsed": false
   },
   "outputs": [
    {
     "data": {
      "text/html": [
       "<table style=\"border: 1px solid #B0C6D0; border-collapse: collapse;\">\n",
       "  <thead>\n",
       "    <tr>\n",
       "      <th colspan=\"4\"  style=\"border: 1px solid #B0C6D0; padding: 4px; font-weight: bold; color: #B0C6D0; font-size: big; text-align: center;\"><span style=\"border: 1px solid #B0C6D0; background-color: #DEE7EC; padding: 1px; cursor: pointer;\" title=\"#&lt;Reality::Entity(Argentina):country>\">Argentina</span> | <span style=\"border: 1px solid #B0C6D0; background-color: #DEE7EC; padding: 1px; cursor: pointer;\" title=\"#&lt;Reality::Entity(Bolivia):country>\">Bolivia</span> | <span style=\"border: 1px solid #B0C6D0; background-color: #DEE7EC; padding: 1px; cursor: pointer;\" title=\"#&lt;Reality::Entity(Chile):country>\">Chile</span></th>\n",
       "    </tr>\n",
       "    <tr>\n",
       "      <th style=\"border: 1px solid #B0C6D0;\">&nbsp;</th>\n",
       "      \n",
       "        <th style=\"text-align:center; border: 1px solid #B0C6D0; padding: 2px; color:gray; font-variant: small-caps;\">Argentina</th>\n",
       "      \n",
       "        <th style=\"text-align:center; border: 1px solid #B0C6D0; padding: 2px; color:gray; font-variant: small-caps;\">Bolivia</th>\n",
       "      \n",
       "        <th style=\"text-align:center; border: 1px solid #B0C6D0; padding: 2px; color:gray; font-variant: small-caps;\">Chile</th>\n",
       "      \n",
       "    </tr>\n",
       "  </thead>\n",
       "  <tbody>\n",
       "    \n",
       "      <tr>\n",
       "        <th style=\"text-align:right; border: 1px solid #B0C6D0; padding: 2px; color:gray; font-variant: small-caps;\">adm_divisions</th>\n",
       "        \n",
       "          <td style=\"border: 1px solid #B0C6D0; padding: 2px;\">[<span style=\"border: 1px solid #B0C6D0; background-color: #DEE7EC; padding: 1px; cursor: pointer;\" title=\"#&lt;Reality::Entity?(Buenos Aires)>\">Buenos Aires</span>, <span style=\"border: 1px solid #B0C6D0; background-color: #DEE7EC; padding: 1px; cursor: pointer;\" title=\"#&lt;Reality::Entity?(Buenos Aires Province)>\">Buenos Aires Province</span>, <span style=\"border: 1px solid #B0C6D0; background-color: #DEE7EC; padding: 1px; cursor: pointer;\" title=\"#&lt;Reality::Entity?(Catamarca Province)>\">Catamarca Province</span>, <span style=\"border: 1px solid #B0C6D0; background-color: #DEE7EC; padding: 1px; cursor: pointer;\" title=\"#&lt;Reality::Entity?(Chaco Province)>\">Chaco Province</span>, <span style=\"border: 1px solid #B0C6D0; background-color: #DEE7EC; padding: 1px; cursor: pointer;\" title=\"#&lt;Reality::Entity?(Corrientes)>\">Corrientes</span>, <span style=\"border: 1px solid #B0C6D0; background-color: #DEE7EC; padding: 1px; cursor: pointer;\" title=\"#&lt;Reality::Entity?(Córdoba Province)>\">Córdoba Province</span>, <span style=\"border: 1px solid #B0C6D0; background-color: #DEE7EC; padding: 1px; cursor: pointer;\" title=\"#&lt;Reality::Entity?(Formosa Province)>\">Formosa Province</span>, <span style=\"border: 1px solid #B0C6D0; background-color: #DEE7EC; padding: 1px; cursor: pointer;\" title=\"#&lt;Reality::Entity?(Entre Ríos Provinces)>\">Entre Ríos Provinces</span>, <span style=\"border: 1px solid #B0C6D0; background-color: #DEE7EC; padding: 1px; cursor: pointer;\" title=\"#&lt;Reality::Entity?(Jujuy Province)>\">Jujuy Province</span>, <span style=\"border: 1px solid #B0C6D0; background-color: #DEE7EC; padding: 1px; cursor: pointer;\" title=\"#&lt;Reality::Entity?(La Pampa Province)>\">La Pampa Province</span>, <span style=\"border: 1px solid #B0C6D0; background-color: #DEE7EC; padding: 1px; cursor: pointer;\" title=\"#&lt;Reality::Entity?(La Rioja Province)>\">La Rioja Province</span>, <span style=\"border: 1px solid #B0C6D0; background-color: #DEE7EC; padding: 1px; cursor: pointer;\" title=\"#&lt;Reality::Entity?(Mendoza Province)>\">Mendoza Province</span>, <span style=\"border: 1px solid #B0C6D0; background-color: #DEE7EC; padding: 1px; cursor: pointer;\" title=\"#&lt;Reality::Entity?(Misiones Province)>\">Misiones Province</span>, <span style=\"border: 1px solid #B0C6D0; background-color: #DEE7EC; padding: 1px; cursor: pointer;\" title=\"#&lt;Reality::Entity?(Neuquén Province)>\">Neuquén Province</span>, <span style=\"border: 1px solid #B0C6D0; background-color: #DEE7EC; padding: 1px; cursor: pointer;\" title=\"#&lt;Reality::Entity?(Río Negro Province)>\">Río Negro Province</span>, <span style=\"border: 1px solid #B0C6D0; background-color: #DEE7EC; padding: 1px; cursor: pointer;\" title=\"#&lt;Reality::Entity?(Salta Province)>\">Salta Province</span>, <span style=\"border: 1px solid #B0C6D0; background-color: #DEE7EC; padding: 1px; cursor: pointer;\" title=\"#&lt;Reality::Entity?(San Juan Province)>\">San Juan Province</span>, <span style=\"border: 1px solid #B0C6D0; background-color: #DEE7EC; padding: 1px; cursor: pointer;\" title=\"#&lt;Reality::Entity?(San Luis Province)>\">San Luis Province</span>, <span style=\"border: 1px solid #B0C6D0; background-color: #DEE7EC; padding: 1px; cursor: pointer;\" title=\"#&lt;Reality::Entity?(Santa Cruz Province)>\">Santa Cruz Province</span>, <span style=\"border: 1px solid #B0C6D0; background-color: #DEE7EC; padding: 1px; cursor: pointer;\" title=\"#&lt;Reality::Entity?(Santa Fe Province)>\">Santa Fe Province</span>, <span style=\"border: 1px solid #B0C6D0; background-color: #DEE7EC; padding: 1px; cursor: pointer;\" title=\"#&lt;Reality::Entity?(Santiago del Estero Province)>\">Santiago del Estero Province</span>, <span style=\"border: 1px solid #B0C6D0; background-color: #DEE7EC; padding: 1px; cursor: pointer;\" title=\"#&lt;Reality::Entity?(Tucumán Province)>\">Tucumán Province</span>, <span style=\"border: 1px solid #B0C6D0; background-color: #DEE7EC; padding: 1px; cursor: pointer;\" title=\"#&lt;Reality::Entity?(Tierra del Fuego Province)>\">Tierra del Fuego Province</span>]</td>\n",
       "        \n",
       "          <td style=\"border: 1px solid #B0C6D0; padding: 2px;\">[<span style=\"border: 1px solid #B0C6D0; background-color: #DEE7EC; padding: 1px; cursor: pointer;\" title=\"#&lt;Reality::Entity?(Beni Department)>\">Beni Department</span>, <span style=\"border: 1px solid #B0C6D0; background-color: #DEE7EC; padding: 1px; cursor: pointer;\" title=\"#&lt;Reality::Entity?(Cochabamba Department)>\">Cochabamba Department</span>, <span style=\"border: 1px solid #B0C6D0; background-color: #DEE7EC; padding: 1px; cursor: pointer;\" title=\"#&lt;Reality::Entity?(Tarija Department)>\">Tarija Department</span>, <span style=\"border: 1px solid #B0C6D0; background-color: #DEE7EC; padding: 1px; cursor: pointer;\" title=\"#&lt;Reality::Entity?(Santa Cruz Department)>\">Santa Cruz Department</span>, <span style=\"border: 1px solid #B0C6D0; background-color: #DEE7EC; padding: 1px; cursor: pointer;\" title=\"#&lt;Reality::Entity?(Chuquisaca Department)>\">Chuquisaca Department</span>, <span style=\"border: 1px solid #B0C6D0; background-color: #DEE7EC; padding: 1px; cursor: pointer;\" title=\"#&lt;Reality::Entity?(Pando Department)>\">Pando Department</span>, <span style=\"border: 1px solid #B0C6D0; background-color: #DEE7EC; padding: 1px; cursor: pointer;\" title=\"#&lt;Reality::Entity?(Potosí Department)>\">Potosí Department</span>, <span style=\"border: 1px solid #B0C6D0; background-color: #DEE7EC; padding: 1px; cursor: pointer;\" title=\"#&lt;Reality::Entity?(La Paz Department)>\">La Paz Department</span>, <span style=\"border: 1px solid #B0C6D0; background-color: #DEE7EC; padding: 1px; cursor: pointer;\" title=\"#&lt;Reality::Entity?(Oruro Department)>\">Oruro Department</span>]</td>\n",
       "        \n",
       "          <td style=\"border: 1px solid #B0C6D0; padding: 2px;\">[<span style=\"border: 1px solid #B0C6D0; background-color: #DEE7EC; padding: 1px; cursor: pointer;\" title=\"#&lt;Reality::Entity?(Arica y Parinacota Region)>\">Arica y Parinacota Region</span>, <span style=\"border: 1px solid #B0C6D0; background-color: #DEE7EC; padding: 1px; cursor: pointer;\" title=\"#&lt;Reality::Entity?(Tarapacá Region)>\">Tarapacá Region</span>, <span style=\"border: 1px solid #B0C6D0; background-color: #DEE7EC; padding: 1px; cursor: pointer;\" title=\"#&lt;Reality::Entity?(Antofagasta Region)>\">Antofagasta Region</span>, <span style=\"border: 1px solid #B0C6D0; background-color: #DEE7EC; padding: 1px; cursor: pointer;\" title=\"#&lt;Reality::Entity?(Atacama Region)>\">Atacama Region</span>, <span style=\"border: 1px solid #B0C6D0; background-color: #DEE7EC; padding: 1px; cursor: pointer;\" title=\"#&lt;Reality::Entity?(Coquimbo Region)>\">Coquimbo Region</span>, <span style=\"border: 1px solid #B0C6D0; background-color: #DEE7EC; padding: 1px; cursor: pointer;\" title=\"#&lt;Reality::Entity?(Santiago Metropolitan Region)>\">Santiago Metropolitan Region</span>, <span style=\"border: 1px solid #B0C6D0; background-color: #DEE7EC; padding: 1px; cursor: pointer;\" title=\"#&lt;Reality::Entity?(Libertador General Bernardo O'Higgins Region)>\">Libertador General Bernardo O'Higgins Region</span>, <span style=\"border: 1px solid #B0C6D0; background-color: #DEE7EC; padding: 1px; cursor: pointer;\" title=\"#&lt;Reality::Entity?(Maule Region)>\">Maule Region</span>, <span style=\"border: 1px solid #B0C6D0; background-color: #DEE7EC; padding: 1px; cursor: pointer;\" title=\"#&lt;Reality::Entity?(Bío Bío Region)>\">Bío Bío Region</span>, <span style=\"border: 1px solid #B0C6D0; background-color: #DEE7EC; padding: 1px; cursor: pointer;\" title=\"#&lt;Reality::Entity?(Araucanía Region)>\">Araucanía Region</span>, <span style=\"border: 1px solid #B0C6D0; background-color: #DEE7EC; padding: 1px; cursor: pointer;\" title=\"#&lt;Reality::Entity?(Los Ríos Region)>\">Los Ríos Region</span>, <span style=\"border: 1px solid #B0C6D0; background-color: #DEE7EC; padding: 1px; cursor: pointer;\" title=\"#&lt;Reality::Entity?(Los Lagos Region)>\">Los Lagos Region</span>, <span style=\"border: 1px solid #B0C6D0; background-color: #DEE7EC; padding: 1px; cursor: pointer;\" title=\"#&lt;Reality::Entity?(Aysén Region)>\">Aysén Region</span>, <span style=\"border: 1px solid #B0C6D0; background-color: #DEE7EC; padding: 1px; cursor: pointer;\" title=\"#&lt;Reality::Entity?(Magallanes y la Antártica Chilena Region)>\">Magallanes y la Antártica Chilena Region</span>, <span style=\"border: 1px solid #B0C6D0; background-color: #DEE7EC; padding: 1px; cursor: pointer;\" title=\"#&lt;Reality::Entity?(Valparaíso Region)>\">Valparaíso Region</span>]</td>\n",
       "        \n",
       "      </tr>\n",
       "    \n",
       "      <tr>\n",
       "        <th style=\"text-align:right; border: 1px solid #B0C6D0; padding: 2px; color:gray; font-variant: small-caps;\">area</th>\n",
       "        \n",
       "          <td style=\"border: 1px solid #B0C6D0; padding: 2px;\"><span style=\"border: 1px solid #B0C6D0; background-color: #DEE7EC; padding: 1px; cursor: pointer;\" title=\"#&lt;Reality::Measure(2,780,400 km²)>\">2,780,400km²</span></td>\n",
       "        \n",
       "          <td style=\"border: 1px solid #B0C6D0; padding: 2px;\"><span style=\"border: 1px solid #B0C6D0; background-color: #DEE7EC; padding: 1px; cursor: pointer;\" title=\"#&lt;Reality::Measure(1,098,581 km²)>\">1,098,581km²</span></td>\n",
       "        \n",
       "          <td style=\"border: 1px solid #B0C6D0; padding: 2px;\"><span style=\"border: 1px solid #B0C6D0; background-color: #DEE7EC; padding: 1px; cursor: pointer;\" title=\"#&lt;Reality::Measure(756,096 km²)>\">756,096km²</span></td>\n",
       "        \n",
       "      </tr>\n",
       "    \n",
       "      <tr>\n",
       "        <th style=\"text-align:right; border: 1px solid #B0C6D0; padding: 2px; color:gray; font-variant: small-caps;\">calling_code</th>\n",
       "        \n",
       "          <td style=\"border: 1px solid #B0C6D0; padding: 2px;\">+54</td>\n",
       "        \n",
       "          <td style=\"border: 1px solid #B0C6D0; padding: 2px;\">+591</td>\n",
       "        \n",
       "          <td style=\"border: 1px solid #B0C6D0; padding: 2px;\">+56</td>\n",
       "        \n",
       "      </tr>\n",
       "    \n",
       "      <tr>\n",
       "        <th style=\"text-align:right; border: 1px solid #B0C6D0; padding: 2px; color:gray; font-variant: small-caps;\">capital</th>\n",
       "        \n",
       "          <td style=\"border: 1px solid #B0C6D0; padding: 2px;\"><span style=\"border: 1px solid #B0C6D0; background-color: #DEE7EC; padding: 1px; cursor: pointer;\" title=\"#&lt;Reality::Entity?(Buenos Aires)>\">Buenos Aires</span></td>\n",
       "        \n",
       "          <td style=\"border: 1px solid #B0C6D0; padding: 2px;\"><span style=\"border: 1px solid #B0C6D0; background-color: #DEE7EC; padding: 1px; cursor: pointer;\" title=\"#&lt;Reality::Entity?(La Paz)>\">La Paz</span></td>\n",
       "        \n",
       "          <td style=\"border: 1px solid #B0C6D0; padding: 2px;\"><span style=\"border: 1px solid #B0C6D0; background-color: #DEE7EC; padding: 1px; cursor: pointer;\" title=\"#&lt;Reality::Entity?(Santiago)>\">Santiago</span></td>\n",
       "        \n",
       "      </tr>\n",
       "    \n",
       "      <tr>\n",
       "        <th style=\"text-align:right; border: 1px solid #B0C6D0; padding: 2px; color:gray; font-variant: small-caps;\">continent</th>\n",
       "        \n",
       "          <td style=\"border: 1px solid #B0C6D0; padding: 2px;\"><span style=\"border: 1px solid #B0C6D0; background-color: #DEE7EC; padding: 1px; cursor: pointer;\" title=\"#&lt;Reality::Entity?(South America)>\">South America</span></td>\n",
       "        \n",
       "          <td style=\"border: 1px solid #B0C6D0; padding: 2px;\"><span style=\"border: 1px solid #B0C6D0; background-color: #DEE7EC; padding: 1px; cursor: pointer;\" title=\"#&lt;Reality::Entity?(South America)>\">South America</span></td>\n",
       "        \n",
       "          <td style=\"border: 1px solid #B0C6D0; padding: 2px;\"><span style=\"border: 1px solid #B0C6D0; background-color: #DEE7EC; padding: 1px; cursor: pointer;\" title=\"#&lt;Reality::Entity?(South America)>\">South America</span></td>\n",
       "        \n",
       "      </tr>\n",
       "    \n",
       "      <tr>\n",
       "        <th style=\"text-align:right; border: 1px solid #B0C6D0; padding: 2px; color:gray; font-variant: small-caps;\">coord</th>\n",
       "        \n",
       "          <td style=\"border: 1px solid #B0C6D0; padding: 2px;\"><span style=\"border: 1px solid #B0C6D0; background-color: #DEE7EC; padding: 1px; cursor: pointer;\" title=\"#&lt;Reality::Geo::Coord(34°0′0″S,64°0′0″W)>\">34°0′0″S, 64°0′0″W</span></td>\n",
       "        \n",
       "          <td style=\"border: 1px solid #B0C6D0; padding: 2px;\"><span style=\"border: 1px solid #B0C6D0; background-color: #DEE7EC; padding: 1px; cursor: pointer;\" title=\"#&lt;Reality::Geo::Coord(17°3′25″S,64°59′28″W)>\">17°3′25″S, 64°59′28″W</span></td>\n",
       "        \n",
       "          <td style=\"border: 1px solid #B0C6D0; padding: 2px;\"><span style=\"border: 1px solid #B0C6D0; background-color: #DEE7EC; padding: 1px; cursor: pointer;\" title=\"#&lt;Reality::Geo::Coord(31°0′0″S,71°0′0″W)>\">31°0′0″S, 71°0′0″W</span></td>\n",
       "        \n",
       "      </tr>\n",
       "    \n",
       "      <tr>\n",
       "        <th style=\"text-align:right; border: 1px solid #B0C6D0; padding: 2px; color:gray; font-variant: small-caps;\">country</th>\n",
       "        \n",
       "          <td style=\"border: 1px solid #B0C6D0; padding: 2px;\"><span style=\"border: 1px solid #B0C6D0; background-color: #DEE7EC; padding: 1px; cursor: pointer;\" title=\"#&lt;Reality::Entity?(Argentina)>\">Argentina</span></td>\n",
       "        \n",
       "          <td style=\"border: 1px solid #B0C6D0; padding: 2px;\"><span style=\"border: 1px solid #B0C6D0; background-color: #DEE7EC; padding: 1px; cursor: pointer;\" title=\"#&lt;Reality::Entity?(Bolivia)>\">Bolivia</span></td>\n",
       "        \n",
       "          <td style=\"border: 1px solid #B0C6D0; padding: 2px;\"><span style=\"border: 1px solid #B0C6D0; background-color: #DEE7EC; padding: 1px; cursor: pointer;\" title=\"#&lt;Reality::Entity?(Chile)>\">Chile</span></td>\n",
       "        \n",
       "      </tr>\n",
       "    \n",
       "      <tr>\n",
       "        <th style=\"text-align:right; border: 1px solid #B0C6D0; padding: 2px; color:gray; font-variant: small-caps;\">created_at</th>\n",
       "        \n",
       "          <td style=\"border: 1px solid #B0C6D0; padding: 2px;\">1816-01-01</td>\n",
       "        \n",
       "          <td style=\"border: 1px solid #B0C6D0; padding: 2px;\">1825-01-01</td>\n",
       "        \n",
       "          <td style=\"border: 1px solid #B0C6D0; padding: 2px;\">1818-01-01</td>\n",
       "        \n",
       "      </tr>\n",
       "    \n",
       "      <tr>\n",
       "        <th style=\"text-align:right; border: 1px solid #B0C6D0; padding: 2px; color:gray; font-variant: small-caps;\">currency</th>\n",
       "        \n",
       "          <td style=\"border: 1px solid #B0C6D0; padding: 2px;\"><span style=\"border: 1px solid #B0C6D0; background-color: #DEE7EC; padding: 1px; cursor: pointer;\" title=\"#&lt;Reality::Entity?(peso)>\">peso</span></td>\n",
       "        \n",
       "          <td style=\"border: 1px solid #B0C6D0; padding: 2px;\"><span style=\"border: 1px solid #B0C6D0; background-color: #DEE7EC; padding: 1px; cursor: pointer;\" title=\"#&lt;Reality::Entity?(boliviano)>\">boliviano</span></td>\n",
       "        \n",
       "          <td style=\"border: 1px solid #B0C6D0; padding: 2px;\"><span style=\"border: 1px solid #B0C6D0; background-color: #DEE7EC; padding: 1px; cursor: pointer;\" title=\"#&lt;Reality::Entity?(Chilean peso)>\">Chilean peso</span></td>\n",
       "        \n",
       "      </tr>\n",
       "    \n",
       "      <tr>\n",
       "        <th style=\"text-align:right; border: 1px solid #B0C6D0; padding: 2px; color:gray; font-variant: small-caps;\">gdp_nominal</th>\n",
       "        \n",
       "          <td style=\"border: 1px solid #B0C6D0; padding: 2px;\"><span style=\"border: 1px solid #B0C6D0; background-color: #DEE7EC; padding: 1px; cursor: pointer;\" title=\"#&lt;Reality::Measure(537,659,972,702 $)>\">537,659,972,702$</span></td>\n",
       "        \n",
       "          <td style=\"border: 1px solid #B0C6D0; padding: 2px;\"><span style=\"border: 1px solid #B0C6D0; background-color: #DEE7EC; padding: 1px; cursor: pointer;\" title=\"#&lt;Reality::Measure(32,996,187,988 $)>\">32,996,187,988$</span></td>\n",
       "        \n",
       "          <td style=\"border: 1px solid #B0C6D0; padding: 2px;\"><span style=\"border: 1px solid #B0C6D0; background-color: #DEE7EC; padding: 1px; cursor: pointer;\" title=\"#&lt;Reality::Measure(258,061,522,886 $)>\">258,061,522,886$</span></td>\n",
       "        \n",
       "      </tr>\n",
       "    \n",
       "      <tr>\n",
       "        <th style=\"text-align:right; border: 1px solid #B0C6D0; padding: 2px; color:gray; font-variant: small-caps;\">gdp_ppp</th>\n",
       "        \n",
       "          <td style=\"border: 1px solid #B0C6D0; padding: 2px;\"><span style=\"border: 1px solid #B0C6D0; background-color: #DEE7EC; padding: 1px; cursor: pointer;\" title=\"#&lt;Reality::Measure(964,279,000,000 $)>\">964,279,000,000$</span></td>\n",
       "        \n",
       "          <td style=\"border: 1px solid #B0C6D0; padding: 2px;\"><span style=\"border: 1px solid #B0C6D0; background-color: #DEE7EC; padding: 1px; cursor: pointer;\" title=\"#&lt;Reality::Measure(73,879,000,000 $)>\">73,879,000,000$</span></td>\n",
       "        \n",
       "          <td style=\"border: 1px solid #B0C6D0; padding: 2px;\"><span style=\"border: 1px solid #B0C6D0; background-color: #DEE7EC; padding: 1px; cursor: pointer;\" title=\"#&lt;Reality::Measure(410,277,000,000 $)>\">410,277,000,000$</span></td>\n",
       "        \n",
       "      </tr>\n",
       "    \n",
       "      <tr>\n",
       "        <th style=\"text-align:right; border: 1px solid #B0C6D0; padding: 2px; color:gray; font-variant: small-caps;\">head_of_government</th>\n",
       "        \n",
       "          <td style=\"border: 1px solid #B0C6D0; padding: 2px;\"><span style=\"border: 1px solid #B0C6D0; background-color: #DEE7EC; padding: 1px; cursor: pointer;\" title=\"#&lt;Reality::Entity?(Mauricio Macri)>\">Mauricio Macri</span></td>\n",
       "        \n",
       "          <td style=\"border: 1px solid #B0C6D0; padding: 2px;\"></td>\n",
       "        \n",
       "          <td style=\"border: 1px solid #B0C6D0; padding: 2px;\"><span style=\"border: 1px solid #B0C6D0; background-color: #DEE7EC; padding: 1px; cursor: pointer;\" title=\"#&lt;Reality::Entity?(asdasdas)>\">asdasdas</span></td>\n",
       "        \n",
       "      </tr>\n",
       "    \n",
       "      <tr>\n",
       "        <th style=\"text-align:right; border: 1px solid #B0C6D0; padding: 2px; color:gray; font-variant: small-caps;\">head_of_state</th>\n",
       "        \n",
       "          <td style=\"border: 1px solid #B0C6D0; padding: 2px;\"><span style=\"border: 1px solid #B0C6D0; background-color: #DEE7EC; padding: 1px; cursor: pointer;\" title=\"#&lt;Reality::Entity?(Mauricio Macri)>\">Mauricio Macri</span></td>\n",
       "        \n",
       "          <td style=\"border: 1px solid #B0C6D0; padding: 2px;\"><span style=\"border: 1px solid #B0C6D0; background-color: #DEE7EC; padding: 1px; cursor: pointer;\" title=\"#&lt;Reality::Entity?(Evo Morales)>\">Evo Morales</span></td>\n",
       "        \n",
       "          <td style=\"border: 1px solid #B0C6D0; padding: 2px;\"><span style=\"border: 1px solid #B0C6D0; background-color: #DEE7EC; padding: 1px; cursor: pointer;\" title=\"#&lt;Reality::Entity?(asdasdas)>\">asdasdas</span></td>\n",
       "        \n",
       "      </tr>\n",
       "    \n",
       "      <tr>\n",
       "        <th style=\"text-align:right; border: 1px solid #B0C6D0; padding: 2px; color:gray; font-variant: small-caps;\">highest_point</th>\n",
       "        \n",
       "          <td style=\"border: 1px solid #B0C6D0; padding: 2px;\"><span style=\"border: 1px solid #B0C6D0; background-color: #DEE7EC; padding: 1px; cursor: pointer;\" title=\"#&lt;Reality::Entity?(Aconcagua)>\">Aconcagua</span></td>\n",
       "        \n",
       "          <td style=\"border: 1px solid #B0C6D0; padding: 2px;\"><span style=\"border: 1px solid #B0C6D0; background-color: #DEE7EC; padding: 1px; cursor: pointer;\" title=\"#&lt;Reality::Entity?(Nevado Sajama)>\">Nevado Sajama</span></td>\n",
       "        \n",
       "          <td style=\"border: 1px solid #B0C6D0; padding: 2px;\"><span style=\"border: 1px solid #B0C6D0; background-color: #DEE7EC; padding: 1px; cursor: pointer;\" title=\"#&lt;Reality::Entity?(Ojos del Salado)>\">Ojos del Salado</span></td>\n",
       "        \n",
       "      </tr>\n",
       "    \n",
       "      <tr>\n",
       "        <th style=\"text-align:right; border: 1px solid #B0C6D0; padding: 2px; color:gray; font-variant: small-caps;\">iso2_code</th>\n",
       "        \n",
       "          <td style=\"border: 1px solid #B0C6D0; padding: 2px;\">AR</td>\n",
       "        \n",
       "          <td style=\"border: 1px solid #B0C6D0; padding: 2px;\">BO</td>\n",
       "        \n",
       "          <td style=\"border: 1px solid #B0C6D0; padding: 2px;\">CL</td>\n",
       "        \n",
       "      </tr>\n",
       "    \n",
       "      <tr>\n",
       "        <th style=\"text-align:right; border: 1px solid #B0C6D0; padding: 2px; color:gray; font-variant: small-caps;\">iso3_code</th>\n",
       "        \n",
       "          <td style=\"border: 1px solid #B0C6D0; padding: 2px;\">ARG</td>\n",
       "        \n",
       "          <td style=\"border: 1px solid #B0C6D0; padding: 2px;\">BOL</td>\n",
       "        \n",
       "          <td style=\"border: 1px solid #B0C6D0; padding: 2px;\">CHL</td>\n",
       "        \n",
       "      </tr>\n",
       "    \n",
       "      <tr>\n",
       "        <th style=\"text-align:right; border: 1px solid #B0C6D0; padding: 2px; color:gray; font-variant: small-caps;\">long_name</th>\n",
       "        \n",
       "          <td style=\"border: 1px solid #B0C6D0; padding: 2px;\">Argentine Republic</td>\n",
       "        \n",
       "          <td style=\"border: 1px solid #B0C6D0; padding: 2px;\">Plurinational State of Bolivia</td>\n",
       "        \n",
       "          <td style=\"border: 1px solid #B0C6D0; padding: 2px;\">Republic of Chile</td>\n",
       "        \n",
       "      </tr>\n",
       "    \n",
       "      <tr>\n",
       "        <th style=\"text-align:right; border: 1px solid #B0C6D0; padding: 2px; color:gray; font-variant: small-caps;\">neighbours</th>\n",
       "        \n",
       "          <td style=\"border: 1px solid #B0C6D0; padding: 2px;\">[<span style=\"border: 1px solid #B0C6D0; background-color: #DEE7EC; padding: 1px; cursor: pointer;\" title=\"#&lt;Reality::Entity?(Uruguay)>\">Uruguay</span>, <span style=\"border: 1px solid #B0C6D0; background-color: #DEE7EC; padding: 1px; cursor: pointer;\" title=\"#&lt;Reality::Entity?(Brazil)>\">Brazil</span>, <span style=\"border: 1px solid #B0C6D0; background-color: #DEE7EC; padding: 1px; cursor: pointer;\" title=\"#&lt;Reality::Entity?(Chile)>\">Chile</span>, <span style=\"border: 1px solid #B0C6D0; background-color: #DEE7EC; padding: 1px; cursor: pointer;\" title=\"#&lt;Reality::Entity?(Paraguay)>\">Paraguay</span>, <span style=\"border: 1px solid #B0C6D0; background-color: #DEE7EC; padding: 1px; cursor: pointer;\" title=\"#&lt;Reality::Entity?(Bolivia)>\">Bolivia</span>]</td>\n",
       "        \n",
       "          <td style=\"border: 1px solid #B0C6D0; padding: 2px;\">[<span style=\"border: 1px solid #B0C6D0; background-color: #DEE7EC; padding: 1px; cursor: pointer;\" title=\"#&lt;Reality::Entity?(Brazil)>\">Brazil</span>, <span style=\"border: 1px solid #B0C6D0; background-color: #DEE7EC; padding: 1px; cursor: pointer;\" title=\"#&lt;Reality::Entity?(Chile)>\">Chile</span>, <span style=\"border: 1px solid #B0C6D0; background-color: #DEE7EC; padding: 1px; cursor: pointer;\" title=\"#&lt;Reality::Entity?(Argentina)>\">Argentina</span>, <span style=\"border: 1px solid #B0C6D0; background-color: #DEE7EC; padding: 1px; cursor: pointer;\" title=\"#&lt;Reality::Entity?(Peru)>\">Peru</span>, <span style=\"border: 1px solid #B0C6D0; background-color: #DEE7EC; padding: 1px; cursor: pointer;\" title=\"#&lt;Reality::Entity?(Paraguay)>\">Paraguay</span>]</td>\n",
       "        \n",
       "          <td style=\"border: 1px solid #B0C6D0; padding: 2px;\">[<span style=\"border: 1px solid #B0C6D0; background-color: #DEE7EC; padding: 1px; cursor: pointer;\" title=\"#&lt;Reality::Entity?(Argentina)>\">Argentina</span>, <span style=\"border: 1px solid #B0C6D0; background-color: #DEE7EC; padding: 1px; cursor: pointer;\" title=\"#&lt;Reality::Entity?(Peru)>\">Peru</span>, <span style=\"border: 1px solid #B0C6D0; background-color: #DEE7EC; padding: 1px; cursor: pointer;\" title=\"#&lt;Reality::Entity?(Bolivia)>\">Bolivia</span>]</td>\n",
       "        \n",
       "      </tr>\n",
       "    \n",
       "      <tr>\n",
       "        <th style=\"text-align:right; border: 1px solid #B0C6D0; padding: 2px; color:gray; font-variant: small-caps;\">official_website</th>\n",
       "        \n",
       "          <td style=\"border: 1px solid #B0C6D0; padding: 2px;\">http://www.argentina.gob.ar/</td>\n",
       "        \n",
       "          <td style=\"border: 1px solid #B0C6D0; padding: 2px;\"></td>\n",
       "        \n",
       "          <td style=\"border: 1px solid #B0C6D0; padding: 2px;\"></td>\n",
       "        \n",
       "      </tr>\n",
       "    \n",
       "      <tr>\n",
       "        <th style=\"text-align:right; border: 1px solid #B0C6D0; padding: 2px; color:gray; font-variant: small-caps;\">organizations</th>\n",
       "        \n",
       "          <td style=\"border: 1px solid #B0C6D0; padding: 2px;\">[<span style=\"border: 1px solid #B0C6D0; background-color: #DEE7EC; padding: 1px; cursor: pointer;\" title=\"#&lt;Reality::Entity?(United Nations)>\">United Nations</span>, <span style=\"border: 1px solid #B0C6D0; background-color: #DEE7EC; padding: 1px; cursor: pointer;\" title=\"#&lt;Reality::Entity?(Union of South American Nations)>\">Union of South American Nations</span>, <span style=\"border: 1px solid #B0C6D0; background-color: #DEE7EC; padding: 1px; cursor: pointer;\" title=\"#&lt;Reality::Entity?(Mercosur)>\">Mercosur</span>, <span style=\"border: 1px solid #B0C6D0; background-color: #DEE7EC; padding: 1px; cursor: pointer;\" title=\"#&lt;Reality::Entity?(World Trade Organization)>\">World Trade Organization</span>, <span style=\"border: 1px solid #B0C6D0; background-color: #DEE7EC; padding: 1px; cursor: pointer;\" title=\"#&lt;Reality::Entity?(G-20 major economies)>\">G-20 major economies</span>, <span style=\"border: 1px solid #B0C6D0; background-color: #DEE7EC; padding: 1px; cursor: pointer;\" title=\"#&lt;Reality::Entity?(Central American Bank for Economic Integration)>\">Central American Bank for Economic Integration</span>, <span style=\"border: 1px solid #B0C6D0; background-color: #DEE7EC; padding: 1px; cursor: pointer;\" title=\"#&lt;Reality::Entity?(International Bank for Reconstruction and Development)>\">International Bank for Reconstruction and Development</span>, <span style=\"border: 1px solid #B0C6D0; background-color: #DEE7EC; padding: 1px; cursor: pointer;\" title=\"#&lt;Reality::Entity?(African Development Bank)>\">African Development Bank</span>, <span style=\"border: 1px solid #B0C6D0; background-color: #DEE7EC; padding: 1px; cursor: pointer;\" title=\"#&lt;Reality::Entity?(Andean Community of Nations)>\">Andean Community of Nations</span>, <span style=\"border: 1px solid #B0C6D0; background-color: #DEE7EC; padding: 1px; cursor: pointer;\" title=\"#&lt;Reality::Entity?(International Finance Corporation)>\">International Finance Corporation</span>, <span style=\"border: 1px solid #B0C6D0; background-color: #DEE7EC; padding: 1px; cursor: pointer;\" title=\"#&lt;Reality::Entity?(Australia Group)>\">Australia Group</span>, <span style=\"border: 1px solid #B0C6D0; background-color: #DEE7EC; padding: 1px; cursor: pointer;\" title=\"#&lt;Reality::Entity?(International Development Association)>\">International Development Association</span>, <span style=\"border: 1px solid #B0C6D0; background-color: #DEE7EC; padding: 1px; cursor: pointer;\" title=\"#&lt;Reality::Entity?(International Centre for Settlement of Investment Disputes)>\">International Centre for Settlement of Investment Disputes</span>, <span style=\"border: 1px solid #B0C6D0; background-color: #DEE7EC; padding: 1px; cursor: pointer;\" title=\"#&lt;Reality::Entity?(Multilateral Investment Guarantee Agency)>\">Multilateral Investment Guarantee Agency</span>, <span style=\"border: 1px solid #B0C6D0; background-color: #DEE7EC; padding: 1px; cursor: pointer;\" title=\"#&lt;Reality::Entity?(Agency for the Prohibition of Nuclear Weapons in Latin America and the Caribbean)>\">Agency for the Prohibition of Nuclear Weapons in Latin America and the Caribbean</span>]</td>\n",
       "        \n",
       "          <td style=\"border: 1px solid #B0C6D0; padding: 2px;\">[<span style=\"border: 1px solid #B0C6D0; background-color: #DEE7EC; padding: 1px; cursor: pointer;\" title=\"#&lt;Reality::Entity?(United Nations)>\">United Nations</span>, <span style=\"border: 1px solid #B0C6D0; background-color: #DEE7EC; padding: 1px; cursor: pointer;\" title=\"#&lt;Reality::Entity?(Union of South American Nations)>\">Union of South American Nations</span>, <span style=\"border: 1px solid #B0C6D0; background-color: #DEE7EC; padding: 1px; cursor: pointer;\" title=\"#&lt;Reality::Entity?(Mercosur)>\">Mercosur</span>, <span style=\"border: 1px solid #B0C6D0; background-color: #DEE7EC; padding: 1px; cursor: pointer;\" title=\"#&lt;Reality::Entity?(World Trade Organization)>\">World Trade Organization</span>, <span style=\"border: 1px solid #B0C6D0; background-color: #DEE7EC; padding: 1px; cursor: pointer;\" title=\"#&lt;Reality::Entity?(Organization of American States)>\">Organization of American States</span>, <span style=\"border: 1px solid #B0C6D0; background-color: #DEE7EC; padding: 1px; cursor: pointer;\" title=\"#&lt;Reality::Entity?(International Bank for Reconstruction and Development)>\">International Bank for Reconstruction and Development</span>, <span style=\"border: 1px solid #B0C6D0; background-color: #DEE7EC; padding: 1px; cursor: pointer;\" title=\"#&lt;Reality::Entity?(Andean Community of Nations)>\">Andean Community of Nations</span>, <span style=\"border: 1px solid #B0C6D0; background-color: #DEE7EC; padding: 1px; cursor: pointer;\" title=\"#&lt;Reality::Entity?(International Finance Corporation)>\">International Finance Corporation</span>, <span style=\"border: 1px solid #B0C6D0; background-color: #DEE7EC; padding: 1px; cursor: pointer;\" title=\"#&lt;Reality::Entity?(International Development Association)>\">International Development Association</span>, <span style=\"border: 1px solid #B0C6D0; background-color: #DEE7EC; padding: 1px; cursor: pointer;\" title=\"#&lt;Reality::Entity?(Rio Group)>\">Rio Group</span>, <span style=\"border: 1px solid #B0C6D0; background-color: #DEE7EC; padding: 1px; cursor: pointer;\" title=\"#&lt;Reality::Entity?(Multilateral Investment Guarantee Agency)>\">Multilateral Investment Guarantee Agency</span>, <span style=\"border: 1px solid #B0C6D0; background-color: #DEE7EC; padding: 1px; cursor: pointer;\" title=\"#&lt;Reality::Entity?(Agency for the Prohibition of Nuclear Weapons in Latin America and the Caribbean)>\">Agency for the Prohibition of Nuclear Weapons in Latin America and the Caribbean</span>]</td>\n",
       "        \n",
       "          <td style=\"border: 1px solid #B0C6D0; padding: 2px;\">[<span style=\"border: 1px solid #B0C6D0; background-color: #DEE7EC; padding: 1px; cursor: pointer;\" title=\"#&lt;Reality::Entity?(United Nations)>\">United Nations</span>, <span style=\"border: 1px solid #B0C6D0; background-color: #DEE7EC; padding: 1px; cursor: pointer;\" title=\"#&lt;Reality::Entity?(Union of South American Nations)>\">Union of South American Nations</span>, <span style=\"border: 1px solid #B0C6D0; background-color: #DEE7EC; padding: 1px; cursor: pointer;\" title=\"#&lt;Reality::Entity?(World Trade Organization)>\">World Trade Organization</span>, <span style=\"border: 1px solid #B0C6D0; background-color: #DEE7EC; padding: 1px; cursor: pointer;\" title=\"#&lt;Reality::Entity?(Organisation for Economic Co-operation and Development)>\">Organisation for Economic Co-operation and Development</span>, <span style=\"border: 1px solid #B0C6D0; background-color: #DEE7EC; padding: 1px; cursor: pointer;\" title=\"#&lt;Reality::Entity?(Asia-Pacific Economic Cooperation)>\">Asia-Pacific Economic Cooperation</span>, <span style=\"border: 1px solid #B0C6D0; background-color: #DEE7EC; padding: 1px; cursor: pointer;\" title=\"#&lt;Reality::Entity?(International Bank for Reconstruction and Development)>\">International Bank for Reconstruction and Development</span>, <span style=\"border: 1px solid #B0C6D0; background-color: #DEE7EC; padding: 1px; cursor: pointer;\" title=\"#&lt;Reality::Entity?(Andean Community of Nations)>\">Andean Community of Nations</span>, <span style=\"border: 1px solid #B0C6D0; background-color: #DEE7EC; padding: 1px; cursor: pointer;\" title=\"#&lt;Reality::Entity?(International Finance Corporation)>\">International Finance Corporation</span>, <span style=\"border: 1px solid #B0C6D0; background-color: #DEE7EC; padding: 1px; cursor: pointer;\" title=\"#&lt;Reality::Entity?(International Development Association)>\">International Development Association</span>, <span style=\"border: 1px solid #B0C6D0; background-color: #DEE7EC; padding: 1px; cursor: pointer;\" title=\"#&lt;Reality::Entity?(International Centre for Settlement of Investment Disputes)>\">International Centre for Settlement of Investment Disputes</span>, <span style=\"border: 1px solid #B0C6D0; background-color: #DEE7EC; padding: 1px; cursor: pointer;\" title=\"#&lt;Reality::Entity?(Multilateral Investment Guarantee Agency)>\">Multilateral Investment Guarantee Agency</span>, <span style=\"border: 1px solid #B0C6D0; background-color: #DEE7EC; padding: 1px; cursor: pointer;\" title=\"#&lt;Reality::Entity?(Agency for the Prohibition of Nuclear Weapons in Latin America and the Caribbean)>\">Agency for the Prohibition of Nuclear Weapons in Latin America and the Caribbean</span>]</td>\n",
       "        \n",
       "      </tr>\n",
       "    \n",
       "      <tr>\n",
       "        <th style=\"text-align:right; border: 1px solid #B0C6D0; padding: 2px; color:gray; font-variant: small-caps;\">part_of</th>\n",
       "        \n",
       "          <td style=\"border: 1px solid #B0C6D0; padding: 2px;\">[<span style=\"border: 1px solid #B0C6D0; background-color: #DEE7EC; padding: 1px; cursor: pointer;\" title=\"#&lt;Reality::Entity?(Latin America)>\">Latin America</span>]</td>\n",
       "        \n",
       "          <td style=\"border: 1px solid #B0C6D0; padding: 2px;\">[<span style=\"border: 1px solid #B0C6D0; background-color: #DEE7EC; padding: 1px; cursor: pointer;\" title=\"#&lt;Reality::Entity?(Latin America)>\">Latin America</span>]</td>\n",
       "        \n",
       "          <td style=\"border: 1px solid #B0C6D0; padding: 2px;\">[<span style=\"border: 1px solid #B0C6D0; background-color: #DEE7EC; padding: 1px; cursor: pointer;\" title=\"#&lt;Reality::Entity?(Latin America)>\">Latin America</span>]</td>\n",
       "        \n",
       "      </tr>\n",
       "    \n",
       "      <tr>\n",
       "        <th style=\"text-align:right; border: 1px solid #B0C6D0; padding: 2px; color:gray; font-variant: small-caps;\">population</th>\n",
       "        \n",
       "          <td style=\"border: 1px solid #B0C6D0; padding: 2px;\"><span style=\"border: 1px solid #B0C6D0; background-color: #DEE7EC; padding: 1px; cursor: pointer;\" title=\"#&lt;Reality::Measure(43,417,000 person)>\">43,417,000person</span></td>\n",
       "        \n",
       "          <td style=\"border: 1px solid #B0C6D0; padding: 2px;\"><span style=\"border: 1px solid #B0C6D0; background-color: #DEE7EC; padding: 1px; cursor: pointer;\" title=\"#&lt;Reality::Measure(10,671,200 person)>\">10,671,200person</span></td>\n",
       "        \n",
       "          <td style=\"border: 1px solid #B0C6D0; padding: 2px;\"><span style=\"border: 1px solid #B0C6D0; background-color: #DEE7EC; padding: 1px; cursor: pointer;\" title=\"#&lt;Reality::Measure(17,619,708 person)>\">17,619,708person</span></td>\n",
       "        \n",
       "      </tr>\n",
       "    \n",
       "      <tr>\n",
       "        <th style=\"text-align:right; border: 1px solid #B0C6D0; padding: 2px; color:gray; font-variant: small-caps;\">tld</th>\n",
       "        \n",
       "          <td style=\"border: 1px solid #B0C6D0; padding: 2px;\">.ar</td>\n",
       "        \n",
       "          <td style=\"border: 1px solid #B0C6D0; padding: 2px;\">.bo</td>\n",
       "        \n",
       "          <td style=\"border: 1px solid #B0C6D0; padding: 2px;\">.cl</td>\n",
       "        \n",
       "      </tr>\n",
       "    \n",
       "      <tr>\n",
       "        <th style=\"text-align:right; border: 1px solid #B0C6D0; padding: 2px; color:gray; font-variant: small-caps;\">tz_offset</th>\n",
       "        \n",
       "          <td style=\"border: 1px solid #B0C6D0; padding: 2px;\"><span style=\"border: 1px solid #B0C6D0; background-color: #DEE7EC; padding: 1px; cursor: pointer;\" title=\"#&lt;Reality::TZOffset(UTC-03:00)>\">-03:00</span></td>\n",
       "        \n",
       "          <td style=\"border: 1px solid #B0C6D0; padding: 2px;\"><span style=\"border: 1px solid #B0C6D0; background-color: #DEE7EC; padding: 1px; cursor: pointer;\" title=\"#&lt;Reality::TZOffset(UTC-04:00)>\">-04:00</span></td>\n",
       "        \n",
       "          <td style=\"border: 1px solid #B0C6D0; padding: 2px;\"><span style=\"border: 1px solid #B0C6D0; background-color: #DEE7EC; padding: 1px; cursor: pointer;\" title=\"#&lt;Reality::TZOffset(UTC-05:00)>\">-05:00</span></td>\n",
       "        \n",
       "      </tr>\n",
       "    \n",
       "  </tbody>\n",
       "</table>"
      ],
      "text/plain": [
       "#<Reality::Comparator:0x8cb1044 @entities=[#<Reality::Entity(Argentina):country>, #<Reality::Entity(Bolivia):country>, #<Reality::Entity(Chile):country>]>"
      ]
     },
     "execution_count": 8,
     "metadata": {},
     "output_type": "execute_result"
    }
   ],
   "source": [
    "countries.compare"
   ]
  },
  {
   "cell_type": "markdown",
   "metadata": {},
   "source": [
    "You can also easily create `Daru::DataFrame` from `Reality::List`:"
   ]
  },
  {
   "cell_type": "code",
   "execution_count": 9,
   "metadata": {
    "collapsed": false
   },
   "outputs": [
    {
     "data": {
      "text/html": [
       "<table><tr><th colspan=\"25\">Daru::DataFrame:79091480  rows: 3  cols: 24<tr><th></th><th>adm_divisions</th><th>area</th><th>calling_code</th><th>capital</th><th>continent</th><th>coord</th><th>country</th><th>created_at</th><th>currency</th><th>gdp_nominal</th><th>gdp_ppp</th><th>head_of_government</th><th>head_of_state</th><th>highest_point</th><th>iso2_code</th><th>iso3_code</th><th>long_name</th><th>neighbours</th><th>official_website</th><th>organizations</th><th>part_of</th><th>population</th><th>tld</th><th>tz_offset</th></tr><tr><td>Argentina</td><td>[\"Buenos Aires\", \"Buenos Aires Province\", \"Catamarca Province\", \"Chaco Province\", \"Corrientes\", \"Córdoba Province\", \"Formosa Province\", \"Entre Ríos Provinces\", \"Jujuy Province\", \"La Pampa Province\", \"La Rioja Province\", \"Mendoza Province\", \"Misiones Province\", \"Neuquén Province\", \"Río Negro Province\", \"Salta Province\", \"San Juan Province\", \"San Luis Province\", \"Santa Cruz Province\", \"Santa Fe Province\", \"Santiago del Estero Province\", \"Tucumán Province\", \"Tierra del Fuego Province\"]</td><td>2780400.0</td><td>+54</td><td>Buenos Aires</td><td>South America</td><td>-34.0,-64.0</td><td>Argentina</td><td>1816-01-01</td><td>peso</td><td>537659972702.0</td><td>964279000000.0</td><td>Mauricio Macri</td><td>Mauricio Macri</td><td>Aconcagua</td><td>AR</td><td>ARG</td><td>Argentine Republic</td><td>[\"Uruguay\", \"Brazil\", \"Chile\", \"Paraguay\", \"Bolivia\"]</td><td>http://www.argentina.gob.ar/</td><td>[\"United Nations\", \"Union of South American Nations\", \"Mercosur\", \"World Trade Organization\", \"G-20 major economies\", \"Central American Bank for Economic Integration\", \"International Bank for Reconstruction and Development\", \"African Development Bank\", \"Andean Community of Nations\", \"International Finance Corporation\", \"Australia Group\", \"International Development Association\", \"International Centre for Settlement of Investment Disputes\", \"Multilateral Investment Guarantee Agency\", \"Agency for the Prohibition of Nuclear Weapons in Latin America and the Caribbean\"]</td><td>[\"Latin America\"]</td><td>43417000.0</td><td>.ar</td><td>-03:00</td></tr><tr><td>Bolivia</td><td>[\"Beni Department\", \"Cochabamba Department\", \"Tarija Department\", \"Santa Cruz Department\", \"Chuquisaca Department\", \"Pando Department\", \"Potosí Department\", \"La Paz Department\", \"Oruro Department\"]</td><td>1098581.0</td><td>+591</td><td>La Paz</td><td>South America</td><td>-17.056869611111,-64.991228611111</td><td>Bolivia</td><td>1825-01-01</td><td>boliviano</td><td>32996187988.0</td><td>73879000000.0</td><td></td><td>Evo Morales</td><td>Nevado Sajama</td><td>BO</td><td>BOL</td><td>Plurinational State of Bolivia</td><td>[\"Brazil\", \"Chile\", \"Argentina\", \"Peru\", \"Paraguay\"]</td><td></td><td>[\"United Nations\", \"Union of South American Nations\", \"Mercosur\", \"World Trade Organization\", \"Organization of American States\", \"International Bank for Reconstruction and Development\", \"Andean Community of Nations\", \"International Finance Corporation\", \"International Development Association\", \"Rio Group\", \"Multilateral Investment Guarantee Agency\", \"Agency for the Prohibition of Nuclear Weapons in Latin America and the Caribbean\"]</td><td>[\"Latin America\"]</td><td>10671200.0</td><td>.bo</td><td>-04:00</td></tr><tr><td>Chile</td><td>[\"Arica y Parinacota Region\", \"Tarapacá Region\", \"Antofagasta Region\", \"Atacama Region\", \"Coquimbo Region\", \"Santiago Metropolitan Region\", \"Libertador General Bernardo O'Higgins Region\", \"Maule Region\", \"Bío Bío Region\", \"Araucanía Region\", \"Los Ríos Region\", \"Los Lagos Region\", \"Aysén Region\", \"Magallanes y la Antártica Chilena Region\", \"Valparaíso Region\"]</td><td>756096.3</td><td>+56</td><td>Santiago</td><td>South America</td><td>-31.0,-71.0</td><td>Chile</td><td>1818-01-01</td><td>Chilean peso</td><td>258061522886.0</td><td>410277000000.0</td><td>asdasdas</td><td>asdasdas</td><td>Ojos del Salado</td><td>CL</td><td>CHL</td><td>Republic of Chile</td><td>[\"Argentina\", \"Peru\", \"Bolivia\"]</td><td></td><td>[\"United Nations\", \"Union of South American Nations\", \"World Trade Organization\", \"Organisation for Economic Co-operation and Development\", \"Asia-Pacific Economic Cooperation\", \"International Bank for Reconstruction and Development\", \"Andean Community of Nations\", \"International Finance Corporation\", \"International Development Association\", \"International Centre for Settlement of Investment Disputes\", \"Multilateral Investment Guarantee Agency\", \"Agency for the Prohibition of Nuclear Weapons in Latin America and the Caribbean\"]</td><td>[\"Latin America\"]</td><td>17619708.0</td><td>.cl</td><td>-05:00</td></tr></table>"
      ],
      "text/plain": [
       "\n",
       "#<Daru::DataFrame:79091480 @name = 83850202-94c3-4ce0-bfa0-a1574017504d @size = 3>\n",
       "           adm_divisi       area calling_co    capital  continent      coord    country created_at   currency gdp_nomina    gdp_ppp head_of_go head_of_st highest_po  iso2_code  iso3_code  long_name neighbours official_w organizati    part_of population        tld  tz_offset \n",
       " Argentina [\"Buenos A  2780400.0        +54 Buenos Air South Amer -34.0,-64.  Argentina 1816-01-01       peso 5376599727 9642790000 Mauricio M Mauricio M  Aconcagua         AR        ARG Argentine  [\"Uruguay\" http://www [\"United N [\"Latin Am 43417000.0        .ar     -03:00 \n",
       "   Bolivia [\"Beni Dep  1098581.0       +591     La Paz South Amer -17.056869    Bolivia 1825-01-01  boliviano 3299618798 7387900000        nil Evo Morale Nevado Saj         BO        BOL Plurinatio [\"Brazil\",        nil [\"United N [\"Latin Am 10671200.0        .bo     -04:00 \n",
       "     Chile [\"Arica y    756096.3        +56   Santiago South Amer -31.0,-71.      Chile 1818-01-01 Chilean pe 2580615228 4102770000   asdasdas   asdasdas Ojos del S         CL        CHL Republic o [\"Argentin        nil [\"United N [\"Latin Am 17619708.0        .cl     -05:00 \n"
      ]
     },
     "execution_count": 9,
     "metadata": {},
     "output_type": "execute_result"
    }
   ],
   "source": [
    "countries.to_dataframe"
   ]
  },
  {
   "cell_type": "markdown",
   "metadata": {},
   "source": [
    "Not looking very useful, huh? So, there's an option to use only several keys while creating dataframe:"
   ]
  },
  {
   "cell_type": "code",
   "execution_count": 10,
   "metadata": {
    "collapsed": false
   },
   "outputs": [
    {
     "data": {
      "text/html": [
       "<table><tr><th colspan=\"5\">Daru::DataFrame:78492720  rows: 3  cols: 4<tr><th></th><th>area</th><th>gdp_ppp</th><th>iso3_code</th><th>population</th></tr><tr><td>Argentina</td><td>2780400.0</td><td>964279000000.0</td><td>ARG</td><td>43417000.0</td></tr><tr><td>Bolivia</td><td>1098581.0</td><td>73879000000.0</td><td>BOL</td><td>10671200.0</td></tr><tr><td>Chile</td><td>756096.3</td><td>410277000000.0</td><td>CHL</td><td>17619708.0</td></tr></table>"
      ],
      "text/plain": [
       "\n",
       "#<Daru::DataFrame:78492720 @name = 682c3537-e612-4d8a-9b8c-d365b2f0c026 @size = 3>\n",
       "                 area    gdp_ppp  iso3_code population \n",
       " Argentina  2780400.0 9642790000        ARG 43417000.0 \n",
       "   Bolivia  1098581.0 7387900000        BOL 10671200.0 \n",
       "     Chile   756096.3 4102770000        CHL 17619708.0 \n"
      ]
     },
     "execution_count": 10,
     "metadata": {},
     "output_type": "execute_result"
    }
   ],
   "source": [
    "countries.to_dataframe(:area, :population, :gdp_ppp, :iso3_code)"
   ]
  },
  {
   "cell_type": "markdown",
   "metadata": {},
   "source": [
    "Better!\n",
    "\n",
    "**That's all for now.**\n",
    "\n",
    "We are planning to release new Reality version with IRuby support in a week or so, and looking for your input and suggestions."
   ]
  }
 ],
 "metadata": {
  "kernelspec": {
   "display_name": "Ruby 2.2.0",
   "language": "ruby",
   "name": "ruby"
  },
  "language_info": {
   "file_extension": ".rb",
   "mimetype": "application/x-ruby",
   "name": "ruby",
   "version": "2.2.0"
  }
 },
 "nbformat": 4,
 "nbformat_minor": 0
}
